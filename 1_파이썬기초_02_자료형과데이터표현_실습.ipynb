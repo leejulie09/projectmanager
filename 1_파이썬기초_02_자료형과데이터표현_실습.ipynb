{
  "cells": [
    {
      "cell_type": "markdown",
      "metadata": {
        "id": "view-in-github",
        "colab_type": "text"
      },
      "source": [
        "<a href=\"https://colab.research.google.com/github/leejulie09/projectmanager/blob/main/1_%E1%84%91%E1%85%A1%E1%84%8B%E1%85%B5%E1%84%8A%E1%85%A5%E1%86%AB%E1%84%80%E1%85%B5%E1%84%8E%E1%85%A9_02_%E1%84%8C%E1%85%A1%E1%84%85%E1%85%AD%E1%84%92%E1%85%A7%E1%86%BC%E1%84%80%E1%85%AA%E1%84%83%E1%85%A6%E1%84%8B%E1%85%B5%E1%84%90%E1%85%A5%E1%84%91%E1%85%AD%E1%84%92%E1%85%A7%E1%86%AB_%EC%8B%A4%EC%8A%B5.ipynb\" target=\"_parent\"><img src=\"https://colab.research.google.com/assets/colab-badge.svg\" alt=\"Open In Colab\"/></a>"
      ]
    },
    {
      "cell_type": "markdown",
      "id": "8daf7079",
      "metadata": {
        "id": "8daf7079"
      },
      "source": [
        "# 파이썬 기초 다지기"
      ]
    },
    {
      "cell_type": "markdown",
      "id": "3f3da3bd",
      "metadata": {
        "id": "3f3da3bd"
      },
      "source": [
        "## 2 - 파이썬 자료형과 데이터 표현\n",
        "파이썬의 다양한 데이터 타입과 다양한 연산자, 문자열"
      ]
    },
    {
      "cell_type": "markdown",
      "id": "0c52a67e",
      "metadata": {
        "id": "0c52a67e"
      },
      "source": [
        "----------------------------------"
      ]
    },
    {
      "cell_type": "markdown",
      "id": "1ff36611",
      "metadata": {
        "id": "1ff36611"
      },
      "source": [
        "## 2-1.파이썬 자료형(Data Type)"
      ]
    },
    {
      "cell_type": "code",
      "source": [
        "d1=123\n",
        "d2='123'\n",
        "d3=[123]\n",
        "d4=(123,)\n",
        "d5={'key': 123}\n",
        "d6={123}\n",
        "d7=True\n",
        "# d8=true\n",
        "\n",
        "print(f'{d1}의 자료형: {type(d1)}')\n",
        "print(f'{d2}의 자료형: {type(d2)}')\n",
        "print(f'{d3}의 자료형: {type(d3)}')\n",
        "print(f'{d4}의 자료형: {type(d4)}')\n",
        "print(f'{d5}의 자료형: {type(d5)}')\n",
        "print(f'{d6}의 자료형: {type(d6)}')\n",
        "print(f'{d7}의 자료형: {type(d7)}')\n",
        "# print(f'{d8}의 자료형: {type(d8)}')\n",
        "#결과: NameError: name 'true' is not defined\n",
        "\n"
      ],
      "metadata": {
        "colab": {
          "base_uri": "https://localhost:8080/"
        },
        "id": "mV18Kdbcci70",
        "outputId": "abaaab20-25a1-45b0-e76a-608769e953c2"
      },
      "id": "mV18Kdbcci70",
      "execution_count": null,
      "outputs": [
        {
          "output_type": "stream",
          "name": "stdout",
          "text": [
            "123의 자료형: <class 'int'>\n",
            "123의 자료형: <class 'str'>\n",
            "[123]의 자료형: <class 'list'>\n",
            "(123,)의 자료형: <class 'tuple'>\n",
            "{'key': 123}의 자료형: <class 'dict'>\n",
            "{123}의 자료형: <class 'set'>\n",
            "True의 자료형: <class 'bool'>\n"
          ]
        }
      ]
    },
    {
      "cell_type": "markdown",
      "id": "278fb39c",
      "metadata": {
        "id": "278fb39c"
      },
      "source": [
        "### 수학 연산하기"
      ]
    },
    {
      "cell_type": "code",
      "execution_count": null,
      "id": "7ea3146f",
      "metadata": {
        "colab": {
          "base_uri": "https://localhost:8080/"
        },
        "id": "7ea3146f",
        "outputId": "2bf0c24a-e039-4c79-c973-13699b6e4be3"
      },
      "outputs": [
        {
          "output_type": "stream",
          "name": "stdout",
          "text": [
            "30 10 0.5 10 100 1000\n"
          ]
        }
      ],
      "source": [
        "\n",
        "a = 10\n",
        "b = 20\n",
        "print(a+b, b-a, a/b, a%b, a**2, a**3)"
      ]
    },
    {
      "cell_type": "markdown",
      "id": "105f773c",
      "metadata": {
        "id": "105f773c"
      },
      "source": [
        "### [실습문제]\n",
        "- 문제1: 10 + 3 x 4 결과 출력\n",
        "- 문제2: 아이폰 15대를 가지고 있다. 아이폰의 가격이 130만원 일 때 총 금액은?\n",
        "- 문제3: 주어진 자연수가 홀수인지 짝수인지 판별하는 방법은?\n",
        "- 문제4: 2x2x2x5x5x5x5x3x3x3x3을 제곱형태로 나타낸 후 그 결과 출력하기"
      ]
    },
    {
      "cell_type": "code",
      "execution_count": null,
      "id": "7a853d89",
      "metadata": {
        "colab": {
          "base_uri": "https://localhost:8080/"
        },
        "id": "7a853d89",
        "outputId": "975445dd-43b2-493f-b3dd-cadb28dff941"
      },
      "outputs": [
        {
          "output_type": "stream",
          "name": "stdout",
          "text": [
            "문제1: 22\n",
            "문제2 %d: 15 x 1300000 = 19500000\n",
            "문제2 f str:15 x 1300000 = 19500000\n",
            "65 는 홀수\n",
            "문제3 405000\n"
          ]
        }
      ],
      "source": [
        "# 문제1: 10 + 3 x 4 결과 출력\n",
        "# 문제2: 아이폰 15대를 가지고 있다. 아이폰의 가격이 130만원 일 때 총 금액은?\n",
        "# 문제3: 주어진 자연수가 홀수인지 짝수인지 판별하는 방법은?\n",
        "# 문제4: 2x2x2x5x5x5x5x3x3x3x3을 제곱형태로 나타낸 후 그 결과 출력하기\n",
        "\n",
        "#문제1\n",
        "print(\"문제1:\", 10+3*4)\n",
        "\n",
        "#문제2\n",
        "'''\n",
        "%d에서의 d는 \"decimal\"의 약어로, 십진법(decimal) 정수를 나타내는 서식 지정자\n",
        "%d는 문자열 내에서 각각 iphoneNumber, totalPrice, 그리고 iphoneNumber*totalPrice 값을 대체하는 역할\n",
        "'''\n",
        "\n",
        "iphoneNumber = 15\n",
        "totalPrice = 1300000\n",
        "print(\"문제2 %d:\", \"%d x %d = %d\" % (iphoneNumber, totalPrice, iphoneNumber*totalPrice))\n",
        "print(\"문제2 f str:\"f\"{iphoneNumber} x {totalPrice} = {iphoneNumber*totalPrice}\")\n",
        "\n",
        "#문제3\n",
        "'''\n",
        "나누기 2한 후\n",
        "나머지 0 => 짝수\n",
        "나머지 1 => 홀수\n",
        "'''\n",
        "import random\n",
        "number = random.randint(1, 100)\n",
        "if number % 2 == 0:\n",
        "    print(number,\"는 짝수\")\n",
        "else:\n",
        "    print(number,\"는 홀수\")\n",
        "\n",
        "\n",
        "#문제4\n",
        "a = 2\n",
        "b = 5\n",
        "c = 3\n",
        "\n",
        "print(\"문제3\", (a**3)*(b**4)*(c**4))\n",
        "\n",
        "\n"
      ]
    },
    {
      "cell_type": "markdown",
      "id": "65487a5c",
      "metadata": {
        "id": "65487a5c"
      },
      "source": [
        "### 변수\n",
        "데이터를 저장할 수 있는 공간\n",
        "\n",
        "**변수 사용 시 주의사항**\n",
        "- \"첫 글자\"는 영문, 혹은 _(언더바)로 시작할 것 (한글도 가능, 숫자는 불가능)\n",
        "- 영문자, 한글, 숫자, _(언더바)만으로 구성할 것 (공백문자 불가)\n",
        "- 대문자, 소문자 구분해서 사용할 것\n",
        "- 예약어는 피할 것"
      ]
    },
    {
      "cell_type": "code",
      "execution_count": null,
      "id": "c86ab944",
      "metadata": {
        "id": "c86ab944"
      },
      "outputs": [],
      "source": []
    },
    {
      "cell_type": "markdown",
      "id": "6b43e39d",
      "metadata": {
        "id": "6b43e39d"
      },
      "source": [
        "### 파이썬 자료형"
      ]
    },
    {
      "cell_type": "code",
      "execution_count": null,
      "id": "bdcd0ef1",
      "metadata": {
        "colab": {
          "base_uri": "https://localhost:8080/"
        },
        "id": "bdcd0ef1",
        "outputId": "bf122b94-95aa-4ed2-849f-676b5a67a3d6"
      },
      "outputs": [
        {
          "output_type": "stream",
          "name": "stdout",
          "text": [
            "데이터 123의 자료형: <class 'int'>\n",
            "데이터 123의 자료형: <class 'str'>\n",
            "데이터 [123]의 자료형: <class 'list'>\n",
            "데이터 (123,)의 자료형: <class 'tuple'>\n",
            "데이터 {'key': 123}의 자료형: <class 'dict'>\n",
            "데이터 {123}의 자료형: <class 'set'>\n",
            "데이터 True의 자료형: <class 'bool'>\n"
          ]
        }
      ],
      "source": [
        "d1 = 123\n",
        "d2 = '123'\n",
        "d3 = [123]\n",
        "d4 = (123,)\n",
        "d5 = {'key':123}\n",
        "d6 = {123}\n",
        "d7 = True\n",
        "\n",
        "print(f'데이터 {d1}의 자료형: {type(d1)}')\n",
        "print(f'데이터 {d2}의 자료형: {type(d2)}')\n",
        "print(f'데이터 {d3}의 자료형: {type(d3)}')\n",
        "print(f'데이터 {d4}의 자료형: {type(d4)}')\n",
        "print(f'데이터 {d5}의 자료형: {type(d5)}')\n",
        "print(f'데이터 {d6}의 자료형: {type(d6)}')\n",
        "print(f'데이터 {d7}의 자료형: {type(d7)}')"
      ]
    },
    {
      "cell_type": "markdown",
      "id": "7cda86df",
      "metadata": {
        "id": "7cda86df"
      },
      "source": [
        "### 표준 입력과 출력\n",
        "- 키보드로부터 입력을 받는 함수( input() )을 표준 입력함수라 한다.\n",
        "- 화면에 출력하는 함수( print() )를 표준 출력함수라 한다."
      ]
    },
    {
      "cell_type": "code",
      "execution_count": null,
      "id": "00ff5c37",
      "metadata": {
        "colab": {
          "base_uri": "https://localhost:8080/"
        },
        "id": "00ff5c37",
        "outputId": "134ca2c6-70ee-481e-d7c7-67166063b788"
      },
      "outputs": [
        {
          "output_type": "stream",
          "name": "stdout",
          "text": [
            "24\n",
            "숫자를 입력하세요:24\n",
            "변수 a의 값: 24, <class 'int'>\n",
            "변수 b의 값: 24.0, <class 'float'>\n"
          ]
        }
      ],
      "source": [
        "# 표준 입력(키보드로부터 데이터를 입력 받는 것)\n",
        "a = input()\n",
        "a = int(a)\n",
        "\n",
        "# b = input(\"숫자를 입력하세요:\")\n",
        "# b = float(b)\n",
        "b = float(input('숫자를 입력하세요:'))\n",
        "\n",
        "\n",
        "# 표준 출력\n",
        "print(f\"변수 a의 값: {a}, {type(a)}\")\n",
        "print(f\"변수 b의 값: {b}, {type(b)}\")\n",
        "\n"
      ]
    },
    {
      "cell_type": "code",
      "source": [
        "#자동 줄바꿈\n",
        "print()\n",
        "#정수\n",
        "print(int(3.14))\n",
        "#실수\n",
        "print(float(3))"
      ],
      "metadata": {
        "colab": {
          "base_uri": "https://localhost:8080/"
        },
        "id": "mmX28MHUTNkw",
        "outputId": "955fee74-716e-4c88-9215-b1bc568c45d0"
      },
      "id": "mmX28MHUTNkw",
      "execution_count": null,
      "outputs": [
        {
          "output_type": "stream",
          "name": "stdout",
          "text": [
            "\n",
            "3\n",
            "3.0\n"
          ]
        }
      ]
    },
    {
      "cell_type": "markdown",
      "id": "18bc822a",
      "metadata": {
        "id": "18bc822a"
      },
      "source": [
        "#### 문자열 데이터를 숫자(정수)로 변환하기"
      ]
    },
    {
      "cell_type": "code",
      "execution_count": null,
      "id": "aaf9890f",
      "metadata": {
        "id": "aaf9890f"
      },
      "outputs": [],
      "source": [
        "# 문자열 데이터를 숫자(정수)로 변환하기\n",
        "\n"
      ]
    },
    {
      "cell_type": "markdown",
      "id": "c0436ecb",
      "metadata": {
        "id": "c0436ecb"
      },
      "source": [
        "#### 다양한 변수 출력 방법"
      ]
    },
    {
      "cell_type": "code",
      "execution_count": null,
      "id": "7d2e160d",
      "metadata": {
        "scrolled": true,
        "colab": {
          "base_uri": "https://localhost:8080/"
        },
        "id": "7d2e160d",
        "outputId": "6af31f8b-36df-4713-90e4-ef96ab0aaba2"
      },
      "outputs": [
        {
          "output_type": "stream",
          "name": "stdout",
          "text": [
            "키보드로 숫자를 입력해 주세요 200\n",
            "변수 a에 기억된 값은 200 입니다\n",
            "변수 a에 기억된 값은 200 입니다\n",
            "변수 a에 기억된 값은 200 입니다\n"
          ]
        }
      ],
      "source": [
        "a = input('키보드로 숫자를 입력해 주세요 ')\n",
        "\n",
        "print('변수 a에 기억된 값은', a, '입니다')\n",
        "print('변수 a에 기억된 값은 %s 입니다'%a)\n",
        "#%s 문자열, %d 정수, %f 실수\n",
        "print(f'변수 a에 기억된 값은 {a} 입니다')\n"
      ]
    },
    {
      "cell_type": "markdown",
      "id": "7ea5c22e",
      "metadata": {
        "id": "7ea5c22e"
      },
      "source": [
        "### [실습문제] : 계산기 프로그램 만들기\n",
        "정수 2개를 키보드로 각각 입력 받아 아래와 같이 덧셈, 뺄셈, 곱셈, 몫, 나머지를\n",
        "\n",
        "\n",
        "출력하는 프로그램을 만들어 보세요.\n"
      ]
    },
    {
      "cell_type": "code",
      "execution_count": null,
      "id": "fa128ef7",
      "metadata": {
        "colab": {
          "base_uri": "https://localhost:8080/"
        },
        "id": "fa128ef7",
        "outputId": "179a2a7f-623b-4f0e-9685-d7767b51332a"
      },
      "outputs": [
        {
          "output_type": "stream",
          "name": "stdout",
          "text": [
            "첫번째 숫자: 100\n",
            "두번째 숫자: 2\n",
            "--------------------------------------------------\n",
            "덧셈: 100 +2 = 102\n",
            "뺄셈: 100 -2 = 98\n",
            "곱셈: 100 *2 = 200\n",
            "몫: 100 //2 = 50\n",
            "나눗셈: 100 / 2 = 50.000000\n"
          ]
        }
      ],
      "source": [
        "num1 = int(input(\"첫번째 숫자: \"))\n",
        "num2 = int(input(\"두번째 숫자: \"))\n",
        "\n",
        "print('-'*50)\n",
        "\n",
        "print('덧셈: %d +%d = %d' % (num1, num2, num1+num2))\n",
        "print('뺄셈: %d -%d = %d' % (num1, num2, num1-num2))\n",
        "print('곱셈: %d *%d = %d' % (num1, num2, num1*num2))\n",
        "print('몫: %d //%d = %d' % (num1, num2, num1//num2))\n",
        "print('나눗셈: %d / %d = %f' % (num1, num2, num1/num2))\n",
        "\n",
        "\n",
        "\n"
      ]
    },
    {
      "cell_type": "markdown",
      "id": "ca1816b6",
      "metadata": {
        "id": "ca1816b6"
      },
      "source": [
        "- f'string' 함수를 이용해 출력하기"
      ]
    },
    {
      "cell_type": "code",
      "execution_count": null,
      "id": "8b486e15",
      "metadata": {
        "colab": {
          "base_uri": "https://localhost:8080/"
        },
        "id": "8b486e15",
        "outputId": "1dab1d01-4e76-42c0-f0b7-8a48fc0c1a0b"
      },
      "outputs": [
        {
          "output_type": "stream",
          "name": "stdout",
          "text": [
            "첫번째 숫자: 20\n",
            "두번째 숫자: 5\n",
            "--------------------------------------------------\n",
            "덧셈: 20 +5 = 25\n",
            "뺄셈: 20 -5 = 15\n",
            "곱셈: 20 *5 = 100\n",
            "나눗셈: 20 / 5 = 4.00\n"
          ]
        }
      ],
      "source": [
        "\n",
        "\n",
        "num1 = int(input(\"첫번째 숫자: \"))\n",
        "num2 = int(input(\"두번째 숫자: \"))\n",
        "\n",
        "print('-'*50)\n",
        "# f-string은 %d보다 데이터 형태를 구분 안해서 좋음\n",
        "print(f'덧셈: {num1} +{num2} = {num1+num2}' )\n",
        "print(f'뺄셈: {num1} -{num2} = {num1-num2}')\n",
        "print(f'곱셈: {num1} *{num2} = {num1*num2}' )\n",
        "print(f'나눗셈: {num1} / {num2} = {num1/num2:.2f}')"
      ]
    },
    {
      "cell_type": "markdown",
      "id": "157b41ef",
      "metadata": {
        "id": "157b41ef"
      },
      "source": [
        "### [실습문제] : 시간 계산 프로그램\n",
        "속력과 거리를 입력 받아 시간을 계산하여 출력하는 프로그램을 만드세요!\n",
        "- 시간 = 거리 / 속력"
      ]
    },
    {
      "cell_type": "code",
      "execution_count": null,
      "id": "93102e01",
      "metadata": {
        "colab": {
          "base_uri": "https://localhost:8080/"
        },
        "id": "93102e01",
        "outputId": "055e3856-1463-4658-e2ae-1130989ed7da"
      },
      "outputs": [
        {
          "output_type": "stream",
          "name": "stdout",
          "text": [
            "속력를 입력해 주세요(km/h) : 100\n",
            "거리를 입력해 주세요(km) : 340\n",
            "--------------------------------------------------\n",
            "속력: 100\n",
            "거리: 340\n",
            "340/100\n",
            "시간 = 340/100\n",
            "정답===========\n",
            "속력를 입력해 주세요(km/h) : 100\n",
            "거리를 입력해 주세요(km) : 340\n",
            "--------------------------------------------------\n",
            "속력: 100.0km/h\n",
            "거리: 340.0km/h\n",
            "시간: 3.4km/h\n"
          ]
        }
      ],
      "source": [
        "velocity = input('속력를 입력해 주세요(km/h) : ')\n",
        "distance = input('거리를 입력해 주세요(km) : ')\n",
        "\n",
        "print(\"-\"*50)\n",
        "\n",
        "print(f\"속력: {velocity}\")\n",
        "print(f\"거리: {distance}\")\n",
        "\n",
        "print(f\"{distance}/{velocity}\")\n",
        "#여기가 틀렸음 '/'가 문자열로 인식되니까 계산을 안함 =>문자열도 계산하려면 eval()함수 사용\n",
        "print(f\"시간 = {distance}/{velocity}\")\n",
        "\n",
        "#정답\n",
        "print(\"=====정답======\")\n",
        "velocity = float(input('속력를 입력해 주세요(km/h) : ') )\n",
        "distance = float(input('거리를 입력해 주세요(km) : '))\n",
        "print(\"-\"*50)\n",
        "print(f\"속력: {velocity}km/h\")\n",
        "print(f\"거리: {distance}km/h\")\n",
        "print(f\"시간: {distance/velocity}km/h\")\n"
      ]
    },
    {
      "cell_type": "markdown",
      "id": "89f48168",
      "metadata": {
        "id": "89f48168"
      },
      "source": [
        "- eval()함수 사용하여 문자열을 계산할 수 있다"
      ]
    },
    {
      "cell_type": "code",
      "execution_count": null,
      "id": "39dab77c",
      "metadata": {
        "colab": {
          "base_uri": "https://localhost:8080/"
        },
        "id": "39dab77c",
        "outputId": "d7089b4f-db3a-46bb-a3a0-8989811f15d6"
      },
      "outputs": [
        {
          "output_type": "stream",
          "name": "stdout",
          "text": [
            "10\n",
            "20-10\n",
            "속력를 입력해 주세요(km/h) : 10\n",
            "거리를 입력해 주세요(km) : 20\n",
            "시간: 2.0\n"
          ]
        }
      ],
      "source": [
        "# eval()함수 사용\n",
        "print(eval(\"20-10\"))\n",
        "print(\"20-10\")\n",
        "\n",
        "velocity = input('속력를 입력해 주세요(km/h) : ')\n",
        "distance = input('거리를 입력해 주세요(km) : ')\n",
        "time=eval(f\"{distance}/{velocity}\")\n",
        "print(\"시간:\",time)"
      ]
    },
    {
      "cell_type": "markdown",
      "id": "85b8c542",
      "metadata": {
        "id": "85b8c542"
      },
      "source": [
        "### 내장 수학 함수\n",
        "- 파이썬 내장 함수 https://docs.python.org/ko/3.10/library/functions.html"
      ]
    },
    {
      "cell_type": "code",
      "execution_count": null,
      "id": "2bfba8be",
      "metadata": {
        "scrolled": true,
        "colab": {
          "base_uri": "https://localhost:8080/"
        },
        "id": "2bfba8be",
        "outputId": "9067c44f-80d0-416b-9305-0a5608a5dc83"
      },
      "outputs": [
        {
          "output_type": "stream",
          "name": "stdout",
          "text": [
            "원주율: 3.141592653589793\n",
            "절대값: 3.14\n",
            "반올림: -3\n",
            "올림  : -3\n",
            "내림  : -4\n",
            "256\n",
            "제곱  : 256.0\n",
            "제곱근: 2.0\n",
            "로그  : 2.302585092994046\n"
          ]
        }
      ],
      "source": [
        "import math\n",
        "\n",
        "a = -3.14\n",
        "\n",
        "\n",
        "print(f'원주율: {math.pi}')\n",
        "print(f'절대값: {abs(a)}')\n",
        "print(f'반올림: {round(a)}')\n",
        "print(f'올림  : {math.ceil(a)}')\n",
        "print(f'내림  : {math.floor(a)}')\n",
        "# **랑 동일\n",
        "print(2**8)\n",
        "print(f'제곱(pow)  : {math.pow(2, 8)}')\n",
        "print(f'제곱근: {math.sqrt(4)}')\n",
        "#square root\n",
        "print(f'로그  : {math.log(10)}')"
      ]
    },
    {
      "cell_type": "markdown",
      "id": "c8147e87",
      "metadata": {
        "id": "c8147e87"
      },
      "source": [
        "### [실습문제]: 수학 함수 사용하여 계산하기\n",
        "- 문제1: 반지름이 4인 원의 넓이 출력\n",
        "- 문제2: 3.14 곱하가 2 나누기 7의 값을 반올림하여 계산 결과 출력\n",
        "- 문제3: 원주율을 3.14로 만들어서 반지름이 4인 원의 둘레의 길이 출력"
      ]
    },
    {
      "cell_type": "code",
      "execution_count": null,
      "id": "45ed86c9",
      "metadata": {
        "colab": {
          "base_uri": "https://localhost:8080/"
        },
        "id": "45ed86c9",
        "outputId": "a409cd16-f945-49fa-9e88-2128987086a2"
      },
      "outputs": [
        {
          "output_type": "stream",
          "name": "stdout",
          "text": [
            "원의 넓이: 50.26548245743669\n",
            "50.26548245743669\n",
            "반올림 값: 1\n",
            "1\n",
            "3.14\n",
            "3.14\n",
            "원의 둘레: 25.132741228718345\n",
            "1\n"
          ]
        }
      ],
      "source": [
        "# 문제1: 반지름이 4인 원의 넓이 출력\n",
        "#원의 넓이 = 파이*r2\n",
        "import math\n",
        "radius = 4\n",
        "print(f\"원의 넓이: {math.pi*math.pow(radius, 2)}\")\n",
        "\n",
        "#정답\n",
        "print(math.pi* 4**2)\n",
        "\n",
        "# 문제2: 3.14 곱하기 2 나누기 7의 값을 반올림하여 계산 결과 출력\n",
        "print(f\"반올림 값: {round(3.14*2/7)}\")\n",
        "#정답\n",
        "print(round(3.14*2/7))\n",
        "\n",
        "# 문제3: 원주율을 3.14로 만들어서 반지름이 4인 원의 둘레의 길이 출력\n",
        "#C=2πr\n",
        "\n",
        "import math\n",
        "pi = math.pi\n",
        "print(f\"{pi:.2f}\")\n",
        "\n",
        "\n",
        "import math\n",
        "print(f'{math.pi:.2f}')\n",
        "radius = 4\n",
        "print(f\"원의 둘레: {2*pi*radius}\")\n",
        "\n",
        "#정답\n",
        "print(round(3.14*2/7))\n",
        "\n",
        "\n"
      ]
    },
    {
      "cell_type": "code",
      "source": [
        "'''아래와 같이 정수 a를 입력받아, a+aa+aaa의 결과 값을 구하는 프로그램을 작성하세요'''\n",
        "\n",
        "# a = input(\"정수를 입력하세요: \")\n",
        "print(f\"{a+int(a+a)+int(a+a+a)}\")\n",
        "\n",
        "# a = input(\"정수를 입력하세요: \")\n",
        "print(f\"{a+eval(\"a\"\"a\")+eval(\"a\"\"a\"\"a\")}\")\n",
        "#변수와 문자열을 혼합하여 사용할 때 변수를 올바르게 처리하지 않고 있다\n",
        "\n",
        "'''문자열의 사용:\n",
        "\n",
        "\"a\"\"a\"나 \"a\"\"a\"\"a\"와 같은 방식으로 문자열을 처리하려고 하지 말고, \"aa\"나 \"aaa\"와 같이 문자열을 간단히 표현하세요.\n",
        "수식과 문자열의 혼합:\n",
        "\n",
        "eval() 함수를 사용하지 않아도 됩니다. 이미 a, a + a, a + a + a는 숫자로 변환한 값으로 계산하면 되기 때문에 eval() 함수를 사용할 필요가 없습니다.\n",
        "f-string의 사용:\n",
        "\n",
        "f-string을 사용하여 문자열을 포맷팅하려면 중괄호 안에 변수나 표현식을 넣어야 합니다. 코드의 형태가 올바르지 않습니다.\n",
        "위 코드는 입력된 정수 a에 대해 a + aa + aaa의 결과 값을 계산하고 출력하는 프로그램입니다. 이 코드는 eval() 함수 없이도 원하는 결과를 얻을 수 있습니다.'''\n",
        "\n",
        "#input에 들어가는 건 다 문자열! 그래서 다 int로 바꿔야함\n",
        "\n",
        "#정답\n",
        "a = input(\"정수를 입력하세요: \")\n",
        "print(f\"{int(a)+int(a+a)+int(a+a+a)}\")\n",
        "print(eval(a + \"+\" + a + a + \"+\" + a + a + a))\n",
        "\n",
        "#변수니까 \"\"로 감싸지 말고, f-string안에서 {}로 감싸야한다\n",
        "result = f\"{a}+{a*2}+{a*3}\"\n",
        "print(result)\n",
        "print(eval(result))\n",
        "print(f\"{result} = {eval(result)}\")\n",
        "\n",
        "#숫자로 사용하는 방법(최적화)\n",
        "a=int(input())\n",
        "print(f'정수를 입력하세요:{a}')\n",
        "print(f'{a}+{11*a}+{111+a}={111*a}')\n"
      ],
      "metadata": {
        "colab": {
          "base_uri": "https://localhost:8080/"
        },
        "id": "Nk6mDyynlrgV",
        "outputId": "0653a44d-3a8f-4899-a7f1-1b299952ab56"
      },
      "id": "Nk6mDyynlrgV",
      "execution_count": null,
      "outputs": [
        {
          "output_type": "stream",
          "name": "stdout",
          "text": [
            "615\n",
            "5+55+555\n",
            "615\n",
            "5+55+555 = 615\n"
          ]
        }
      ]
    },
    {
      "cell_type": "code",
      "source": [
        "print(\"%d/%d=%d\" % (100,200,0.5))\n",
        "print(\"%d/%d=%f\" % (100,200,0.5))"
      ],
      "metadata": {
        "colab": {
          "base_uri": "https://localhost:8080/"
        },
        "id": "aHjlEPsWgdSQ",
        "outputId": "0b6e3948-a5e0-4ef2-9fef-a75563ce4abb"
      },
      "id": "aHjlEPsWgdSQ",
      "execution_count": null,
      "outputs": [
        {
          "output_type": "stream",
          "name": "stdout",
          "text": [
            "100/200=0\n",
            "100/200=0.500000\n"
          ]
        }
      ]
    },
    {
      "cell_type": "code",
      "source": [
        "print(\"%d\"%123)\n",
        "print(\"%5d\"%123)\n",
        "'''\"%05d\"는 총 5개의 문자 공간을 할당하고, 정수 값을 표현하는 포맷 문자입니다.\n",
        "%05d에서 5는 총 문자 폭을 의미하고, 0은 빈 공간을 0으로 채워서 출력하도록 지시합니다.'''\n",
        "print(\"%05d\"%123)\n",
        "\n",
        "print(\"-\"*50)\n",
        "\n",
        "print(\"%f\"%123.45)\n",
        "\n",
        "'''\"%7.1f\"는 총 7개의 문자 공간을 할당하고,\n",
        "그 중 소수점 아래 1자리까지 표현하는 포맷 문자입니다.'''\n",
        "print(\"%7.1f\"%123.45)\n",
        "print(\"%07.1f\"%123.45)\n",
        "print(\"%7.3f\"%123.45)\n",
        "\n",
        "print(\"-\"*50)\n",
        "\n",
        "print(\"%s\"%\"Python\")\n",
        "print(\"%10s\"%\"Python\")\n"
      ],
      "metadata": {
        "colab": {
          "base_uri": "https://localhost:8080/"
        },
        "id": "D_SJkBmkhynV",
        "outputId": "040594e1-ebe2-4965-8feb-02c4df57fcfc"
      },
      "id": "D_SJkBmkhynV",
      "execution_count": null,
      "outputs": [
        {
          "output_type": "stream",
          "name": "stdout",
          "text": [
            "123\n",
            "  123\n",
            "00123\n",
            "--------------------------------------------------\n",
            "123.450000\n",
            "  123.5\n",
            "00123.5\n",
            "123.450\n",
            "--------------------------------------------------\n",
            "Python\n",
            "    Python\n",
            "    Python\n"
          ]
        }
      ]
    },
    {
      "cell_type": "code",
      "source": [
        "print(\"%d, %5d, %05d\" % (123,123,123))\n",
        "print(\"{0:d}{1:5d}{2:05d}\".format(123,123,123))\n",
        "'''{0:d}는 첫 번째 값(인덱스 0)을 정수 값으로 표현하라는 것을 의미하며,\n",
        "{1:5d}는 두 번째 값(인덱스 1)을 총 5개의 문자 공간을 할당하고\n",
        "오른쪽 정렬된 정수 값으로,\n",
        "{2:05d}는 세 번째 값(인덱스 2)을 총 5개의 문자 공간을 할당하고\n",
        "나머지 공간을 0으로 채운 오른쪽 정렬된 정수 값으로 표현합니다.'''\n",
        "\n",
        "print(f\"{123}, {123:5}, {123:0>5}\")\n",
        "'''\n",
        ":5는 총 5개의 문자 공간을 할당하고, 오른쪽 정렬된 값\n",
        ":0>5는 총 5개의 문자 공간을 할당하고,\n",
        "나머지 공간을 0으로 채워서 오른쪽 정렬된 값을 출력하라는 의미입니다.\n",
        "'''\n",
        "\n",
        "print(\"-\"*50)\n",
        "print(f\"{123:10}\")\n",
        "print(f\"{123:^10}\")\n",
        "print(f\"{123:>10}\")\n",
        "print(f\"{123:<10}\")"
      ],
      "metadata": {
        "colab": {
          "base_uri": "https://localhost:8080/"
        },
        "id": "Gg3TNAdKmYpt",
        "outputId": "b4fe7994-7433-4b20-939a-9aad78a3b410"
      },
      "id": "Gg3TNAdKmYpt",
      "execution_count": null,
      "outputs": [
        {
          "output_type": "stream",
          "name": "stdout",
          "text": [
            "123,   123, 00123\n",
            "123  12300123\n",
            "123,   123, 00123\n",
            "--------------------------------------------------\n",
            "       123\n",
            "   123    \n",
            "       123\n",
            "123       \n"
          ]
        }
      ]
    },
    {
      "cell_type": "code",
      "source": [
        "a = input()\n",
        "\n",
        "print(\"-\"*50)\n",
        "print(a)\n",
        "print(int(a))\n",
        "print(type(a))\n",
        "print(type(int(a)))"
      ],
      "metadata": {
        "colab": {
          "base_uri": "https://localhost:8080/"
        },
        "id": "qISyF8zKuta7",
        "outputId": "7e0fbfd5-8f02-445a-b70f-e47b930cb003"
      },
      "id": "qISyF8zKuta7",
      "execution_count": null,
      "outputs": [
        {
          "output_type": "stream",
          "name": "stdout",
          "text": [
            "5\n",
            "--------------------------------------------------\n",
            "5\n",
            "5\n",
            "<class 'str'>\n",
            "<class 'int'>\n"
          ]
        }
      ]
    },
    {
      "cell_type": "markdown",
      "id": "32f4b4ce",
      "metadata": {
        "id": "32f4b4ce"
      },
      "source": [
        "---------------------------"
      ]
    },
    {
      "cell_type": "markdown",
      "id": "12be6789",
      "metadata": {
        "id": "12be6789"
      },
      "source": [
        "## 2-2.문자와 문자열"
      ]
    },
    {
      "cell_type": "markdown",
      "id": "90255097",
      "metadata": {
        "id": "90255097"
      },
      "source": [
        "#### 문자와 문자열 변환"
      ]
    },
    {
      "cell_type": "code",
      "execution_count": 6,
      "id": "a52f17d8",
      "metadata": {
        "colab": {
          "base_uri": "https://localhost:8080/",
          "height": 314
        },
        "id": "a52f17d8",
        "outputId": "038b80ed-c551-48f6-bd8c-42f47ebe8c92"
      },
      "outputs": [
        {
          "output_type": "stream",
          "name": "stdout",
          "text": [
            "65\n",
            "97\n",
            "33\n",
            "44032\n",
            "45208\n"
          ]
        },
        {
          "output_type": "error",
          "ename": "TypeError",
          "evalue": "ignored",
          "traceback": [
            "\u001b[0;31m---------------------------------------------------------------------------\u001b[0m",
            "\u001b[0;31mTypeError\u001b[0m                                 Traceback (most recent call last)",
            "\u001b[0;32m<ipython-input-6-0d3249fcd6ac>\u001b[0m in \u001b[0;36m<cell line: 7>\u001b[0;34m()\u001b[0m\n\u001b[1;32m      5\u001b[0m \u001b[0mprint\u001b[0m\u001b[0;34m(\u001b[0m \u001b[0mord\u001b[0m\u001b[0;34m(\u001b[0m\u001b[0;34m'가'\u001b[0m\u001b[0;34m)\u001b[0m \u001b[0;34m)\u001b[0m\u001b[0;34m\u001b[0m\u001b[0;34m\u001b[0m\u001b[0m\n\u001b[1;32m      6\u001b[0m \u001b[0mprint\u001b[0m\u001b[0;34m(\u001b[0m \u001b[0mord\u001b[0m\u001b[0;34m(\u001b[0m\u001b[0;34m'나'\u001b[0m\u001b[0;34m)\u001b[0m \u001b[0;34m)\u001b[0m\u001b[0;34m\u001b[0m\u001b[0;34m\u001b[0m\u001b[0m\n\u001b[0;32m----> 7\u001b[0;31m \u001b[0mprint\u001b[0m\u001b[0;34m(\u001b[0m \u001b[0mord\u001b[0m\u001b[0;34m(\u001b[0m\u001b[0;36m1\u001b[0m\u001b[0;34m)\u001b[0m \u001b[0;34m)\u001b[0m\u001b[0;34m\u001b[0m\u001b[0;34m\u001b[0m\u001b[0m\n\u001b[0m",
            "\u001b[0;31mTypeError\u001b[0m: ord() expected string of length 1, but int found"
          ]
        }
      ],
      "source": [
        "# 문자 --> 숫자(정수) 로 변환 : ord() 함수 사용\n",
        "print( ord('A') )\n",
        "print(ord('a'))\n",
        "print( ord('!') )\n",
        "print( ord('가') )\n",
        "print( ord('나') )\n"
      ]
    },
    {
      "cell_type": "code",
      "execution_count": 5,
      "id": "88bbb733",
      "metadata": {
        "colab": {
          "base_uri": "https://localhost:8080/"
        },
        "id": "88bbb733",
        "outputId": "99dc416c-23db-4d3d-8ae5-876963cb8410"
      },
      "outputs": [
        {
          "output_type": "stream",
          "name": "stdout",
          "text": [
            "A\n",
            "C\n",
            "B\n",
            "a\n",
            "b\n",
            "가\n",
            "각\n"
          ]
        }
      ],
      "source": [
        "# 숫자(정수) --> 문자 로 변환 : chr() 함수 사용\n",
        "print( chr(65) )\n",
        "print(chr(67))\n",
        "print( chr(66) )\n",
        "print( chr(97) )\n",
        "print( chr(98) )\n",
        "print( chr(44032) )\n",
        "print( chr(44033) )"
      ]
    },
    {
      "cell_type": "code",
      "source": [
        "#정수->이진수 변환: bin() : 정수를 “0b” 가 앞에 붙은 이진 문자열로 변환합니다.\n",
        "print(bin(65))\n",
        "print(bin(ord('파')))\n",
        "# print(bin(\"파\"))\n",
        "#결과값: TypeError: 'str' object cannot be interpreted as an integer\n",
        "\n"
      ],
      "metadata": {
        "colab": {
          "base_uri": "https://localhost:8080/"
        },
        "id": "lzbwmrzXpYu-",
        "outputId": "c42a5055-86a9-4ade-d4e0-9c34bd4bf13f"
      },
      "id": "lzbwmrzXpYu-",
      "execution_count": null,
      "outputs": [
        {
          "output_type": "stream",
          "name": "stdout",
          "text": [
            "0b1000001\n",
            "0b1101001100001100\n",
            "1101001100001100  1100011101110100  1100001101101100  "
          ]
        }
      ]
    },
    {
      "cell_type": "code",
      "execution_count": 10,
      "id": "1cbfb609",
      "metadata": {
        "id": "1cbfb609",
        "colab": {
          "base_uri": "https://localhost:8080/"
        },
        "outputId": "da79f8fd-9345-4183-b532-f27e64f2ace5"
      },
      "outputs": [
        {
          "output_type": "stream",
          "name": "stdout",
          "text": [
            "1101001100001100  1100011101110100  1100001101101100  --------------------------------------------------\n",
            "0b1101001100001100 0b1100011101110100 0b1100001101101100 "
          ]
        }
      ],
      "source": [
        "# 문자 --> 숫자 --> 이진수 로 변환\n",
        "for c in '파이썬':\n",
        "    숫자변환 = ord(c)              # unicode\n",
        "    이진수변환 = bin(숫자변환)     # 16진수 binarycode\n",
        "    print( 이진수변환, end = ' ')  # 한 줄로 표현하기"
      ]
    },
    {
      "cell_type": "code",
      "execution_count": 11,
      "id": "d9577a3f",
      "metadata": {
        "id": "d9577a3f",
        "colab": {
          "base_uri": "https://localhost:8080/"
        },
        "outputId": "92ccda37-2070-4b06-c362-ee4b1b0b7772"
      },
      "outputs": [
        {
          "output_type": "stream",
          "name": "stdout",
          "text": [
            "1101001100001100 1100011101110100 1100001101101100 "
          ]
        }
      ],
      "source": [
        "for c in '파이썬':\n",
        "    # 이진수에서 앞'0b'를 없애기 위해 format() 함수 사용할 수 있다. format함수가 0b를 없애줌\n",
        "    print( format(ord(c), 'b'), end = ' ')  # 한 줄로 표현하기"
      ]
    },
    {
      "cell_type": "markdown",
      "id": "c87a0c03",
      "metadata": {
        "id": "c87a0c03"
      },
      "source": [
        "### 문자열 따옴표로 지정"
      ]
    },
    {
      "cell_type": "markdown",
      "id": "e343167b",
      "metadata": {
        "id": "e343167b"
      },
      "source": [
        "#### 큰 따옴표  or 작은 따옴표로 지정한다"
      ]
    },
    {
      "cell_type": "code",
      "execution_count": 15,
      "id": "fae54804",
      "metadata": {
        "id": "fae54804",
        "colab": {
          "base_uri": "https://localhost:8080/",
          "height": 148
        },
        "outputId": "c87b768c-320f-4eb8-f64c-2cb14700761d"
      },
      "outputs": [
        {
          "output_type": "error",
          "ename": "SyntaxError",
          "evalue": "ignored",
          "traceback": [
            "\u001b[0;36m  File \u001b[0;32m\"<ipython-input-15-23f851bd3ac4>\"\u001b[0;36m, line \u001b[0;32m8\u001b[0m\n\u001b[0;31m    print(\" ₩\"Yes, I can!₩\" \")\u001b[0m\n\u001b[0m                         ^\u001b[0m\n\u001b[0;31mSyntaxError\u001b[0m\u001b[0;31m:\u001b[0m invalid character '₩' (U+20A9)\n"
          ]
        }
      ],
      "source": [
        "print('Hello')\n",
        "print(\"Hello\")\n",
        "print(\"Hello 'world\")\n",
        "print('Hello \"world')\n",
        "print(' \"Yes, I can!\" ')\n",
        "#앞에 \\역신호 넣으면 escape\n",
        "print(\" \\\"Yes, I can!\\\" \")"
      ]
    },
    {
      "cell_type": "markdown",
      "id": "66f9d31e",
      "metadata": {
        "id": "66f9d31e"
      },
      "source": [
        "#### 따옴표 세 개 사용 : 여러 줄로 표현할 때"
      ]
    },
    {
      "cell_type": "code",
      "execution_count": 17,
      "id": "48fe4ca0",
      "metadata": {
        "id": "48fe4ca0",
        "colab": {
          "base_uri": "https://localhost:8080/"
        },
        "outputId": "132a8c8c-b798-4b94-b87a-36e4a67cf706"
      },
      "outputs": [
        {
          "output_type": "stream",
          "name": "stdout",
          "text": [
            "박씨가 소리질렀다.\n",
            "도둑이야!\n"
          ]
        }
      ],
      "source": [
        "a = '''박씨가 소리질렀다.\n",
        "도둑이야!'''\n",
        "print(a)"
      ]
    },
    {
      "cell_type": "code",
      "execution_count": 19,
      "id": "b32c2a51",
      "metadata": {
        "scrolled": true,
        "id": "b32c2a51",
        "colab": {
          "base_uri": "https://localhost:8080/"
        },
        "outputId": "3f519d02-dc3c-406c-cb24-421e8709c78a"
      },
      "outputs": [
        {
          "output_type": "stream",
          "name": "stdout",
          "text": [
            "OOO카페 메뉴판\n",
            "- 아메리카노:  3000원\n",
            "- 카페라테:     4000원\n",
            "- 카페모카:     5000원\n"
          ]
        }
      ],
      "source": [
        "a = '''OOO카페 메뉴판\n",
        "- 아메리카노:  3000원\n",
        "- 카페라테:     4000원\n",
        "- 카페모카:     5000원'''\n",
        "print(a)"
      ]
    },
    {
      "cell_type": "markdown",
      "id": "fb8a7c56",
      "metadata": {
        "id": "fb8a7c56"
      },
      "source": [
        "### [실습] 주문받아 출력하기"
      ]
    },
    {
      "cell_type": "code",
      "execution_count": 21,
      "id": "3a4d57f5",
      "metadata": {
        "id": "3a4d57f5",
        "colab": {
          "base_uri": "https://localhost:8080/"
        },
        "outputId": "841df5cc-1ae3-461b-d051-76156f2b3143"
      },
      "outputs": [
        {
          "output_type": "stream",
          "name": "stdout",
          "text": [
            "카페주문 프로그램입니다\n",
            "--------------------------------------------------\n",
            "OOO카페 메뉴판\n",
            "- 아메리카노:  3000원\n",
            "- 카페라테:     4000원\n",
            "- 카페모카:     5000원\n",
            "--------------------------------------------------\n",
            "주문하실 음료를 입력하세요: 카페라테\n",
            "주문하신 음료 카페라테가 나왔습니다. 맛있게드세요\n"
          ]
        }
      ],
      "source": [
        "# 주문받아 출력하기\n",
        "\n",
        "#tts기능 (윈도우)\n",
        "# import win32com.client\n",
        "# excel = win32com.client.Dispatch(\"Excel.Application\")\n",
        "# excel.Visible = True\n",
        "\n",
        "menu = a\n",
        "print('카페주문 프로그램입니다')\n",
        "print('-'*50)\n",
        "print(menu)\n",
        "print('-'*50)\n",
        "coffee = input('주문하실 음료를 입력하세요: ')\n",
        "print(f'주문하신 음료 {coffee}가 나왔습니다. 맛있게드세요')\n",
        "\n",
        "\n",
        "\n"
      ]
    },
    {
      "cell_type": "markdown",
      "id": "38c40628",
      "metadata": {
        "id": "38c40628"
      },
      "source": [
        "### 문자열 연산\n",
        "- (+): 문자열 연결하기"
      ]
    },
    {
      "cell_type": "code",
      "execution_count": 22,
      "id": "6af90aaf",
      "metadata": {
        "id": "6af90aaf",
        "colab": {
          "base_uri": "https://localhost:8080/"
        },
        "outputId": "22427405-6e18-462d-f702-40157e38cf5d"
      },
      "outputs": [
        {
          "output_type": "stream",
          "name": "stdout",
          "text": [
            "안녕하세요이수연님\n",
            "안녕하세요 이수연님\n"
          ]
        }
      ],
      "source": [
        "print('안녕하세요'+'이수연님')\n",
        "print('안녕하세요','이수연님')\n"
      ]
    },
    {
      "cell_type": "markdown",
      "id": "a27ee4d1",
      "metadata": {
        "id": "a27ee4d1"
      },
      "source": [
        "- (*) : 반복의 의미"
      ]
    },
    {
      "cell_type": "code",
      "execution_count": 24,
      "id": "229965c2",
      "metadata": {
        "id": "229965c2",
        "colab": {
          "base_uri": "https://localhost:8080/"
        },
        "outputId": "5bd39b07-577b-4d23-8958-42e89947dcea"
      },
      "outputs": [
        {
          "output_type": "stream",
          "name": "stdout",
          "text": [
            "조은별조은별조은별\n",
            "---\n"
          ]
        }
      ],
      "source": [
        "print(\"조은별\"*3)\n",
        "print(\"-\"*3)\n"
      ]
    },
    {
      "cell_type": "markdown",
      "id": "2d2a3e0e",
      "metadata": {
        "id": "2d2a3e0e"
      },
      "source": [
        "### [실습문제] 문자열 출력하기\n",
        "- 문제1: 화면에   Mary’s cosmetics   출력\n",
        "- 문제2: 화면에  박씨가 소리질렀다. “도둑이야!”.  출력\n",
        "- 문제3: 다음 코드 실행시켜서 \\t와 \\n의 역할 확인하기 <br>\n",
        "print(\"안녕하세요.\\n오늘\\t날씨가\\t\\t좋습니다.\")    "
      ]
    },
    {
      "cell_type": "code",
      "execution_count": 28,
      "id": "36f87e66",
      "metadata": {
        "id": "36f87e66",
        "colab": {
          "base_uri": "https://localhost:8080/"
        },
        "outputId": "2c80a49e-d772-470d-b32e-bba1c4cb5b7b"
      },
      "outputs": [
        {
          "output_type": "stream",
          "name": "stdout",
          "text": [
            "Mary’s cosmetics\n",
            "화면에 박씨가 소리질렀다. “도둑이야!”.\n",
            "안녕하세요.\n",
            "\n",
            "오늘\t날씨가\t\t좋습니다.\n"
          ]
        }
      ],
      "source": [
        "\n",
        "# 문제1: 화면에 Mary’s cosmetics 출력\n",
        "print('Mary’s cosmetics')\n",
        "# 문제2: 화면에 박씨가 소리질렀다. “도둑이야!”. 출력\n",
        "print('화면에 박씨가 소리질렀다. “도둑이야!”.')\n",
        "# 문제3: 다음 코드 실행시켜서 \\t와 \\n의 역할 확인하기\n",
        "print(\"안녕하세요.\\n\\n오늘\\t날씨가\\t\\t좋습니다.\")"
      ]
    },
    {
      "cell_type": "markdown",
      "id": "13245f26",
      "metadata": {
        "id": "13245f26"
      },
      "source": [
        "-------------------"
      ]
    },
    {
      "cell_type": "markdown",
      "id": "020d1cc5",
      "metadata": {
        "id": "020d1cc5"
      },
      "source": [
        "## 2-3.문자열 인덱싱과 슬라이싱"
      ]
    },
    {
      "cell_type": "code",
      "execution_count": 36,
      "id": "9c875a9b",
      "metadata": {
        "id": "9c875a9b",
        "colab": {
          "base_uri": "https://localhost:8080/"
        },
        "outputId": "011f33ae-d999-46d7-d2ee-b9c53c9cc3a6"
      },
      "outputs": [
        {
          "output_type": "stream",
          "name": "stdout",
          "text": [
            "우\n",
            ".\n",
            "\n",
            "------------------------------\n",
            "우리는\n",
            "우리는\n",
            "우는\n",
            "는중역\n",
            "------------------------------\n",
            "우리는\n",
            "우리는 민족중흥의 역사적 사명을 띠고 이 땅에 태어났다.\n"
          ]
        }
      ],
      "source": [
        "a = '우리는 민족중흥의 역사적 사명을 띠고 이 땅에 태어났다.'\n",
        "print( a[0])\n",
        "print( a[-1])\n",
        "print( a[-1:-7])\n",
        "print('-'*30)\n",
        "print(a[0:3])\n",
        "print(a[0:3:1])\n",
        "print(a[0:3:2])\n",
        "print(a[2:13:4])\n",
        "print('-'*30)\n",
        "print(a[:3])\n",
        "print(a[:])"
      ]
    },
    {
      "cell_type": "code",
      "execution_count": null,
      "id": "e50df3b3",
      "metadata": {
        "id": "e50df3b3"
      },
      "outputs": [],
      "source": [
        "fruits = 'orange'\n",
        "print( )\n"
      ]
    },
    {
      "cell_type": "markdown",
      "id": "1aecf2d0",
      "metadata": {
        "id": "1aecf2d0"
      },
      "source": [
        "---------------------------"
      ]
    },
    {
      "cell_type": "code",
      "source": [
        "print('%-10s파이썬'%'사랑해요')\n",
        "print('%0.4f'%3.41234445)\n",
        "print('%10.4f'%3.41234445)"
      ],
      "metadata": {
        "colab": {
          "base_uri": "https://localhost:8080/"
        },
        "id": "JETGsYXLJCLN",
        "outputId": "9b679503-cf71-48f5-ce8a-66ef4d65b254"
      },
      "id": "JETGsYXLJCLN",
      "execution_count": 37,
      "outputs": [
        {
          "output_type": "stream",
          "name": "stdout",
          "text": [
            "사랑해요      파이썬\n",
            "3.4123\n",
            "    3.4123\n"
          ]
        }
      ]
    },
    {
      "cell_type": "code",
      "source": [
        "#문자열 함수\n",
        "# count\n",
        "a = 'hobby'\n",
        "print(a.count('b'))\n",
        "print('-'*50)\n",
        "\n",
        "article = '''\n",
        "기상청에 따르면 전국은 대체로 서해상에 위치한 고기압의 가장자리에 들어 구름이 하늘을 보이겠다. 또한 체감온도 33도를 넘는 무더위 역시 예고돼 있다.\n",
        "동해안 일부 지역은 이날 오전부터 다음날 사이에 일본 규슈 부근에서 북동쪽으로 이동하는 기압골의 영향을 받아 비가 내리겠다. 대기 불안정으로 서울·경기 내륙 지역과 강원 내륙 지역, 충청권, 전남권, 전북 동부 지역, 경북권, 경남 내륙 지역, 제주도에는 한때 천둥, 번개와 우박을 동반한 소나기가 내리겠다.\n",
        "'''\n",
        "print(article.count('지역'))\n",
        "\n",
        "# find: 처음나온 위치(인덱스)\n",
        "print('-'*50)\n",
        "print(article.find('지역'))\n",
        "print(article.find('이주리'))\n",
        "#-1\n",
        "\n",
        "# index\n",
        "print('-'*50)\n",
        "print(article.index('지역'))\n",
        "# print(article.index('이주리')) ValueError: substring not found"
      ],
      "metadata": {
        "colab": {
          "base_uri": "https://localhost:8080/"
        },
        "id": "FRmTj2MpJfwE",
        "outputId": "fee54a10-6aa8-46f6-85d9-07d4654ada40"
      },
      "id": "FRmTj2MpJfwE",
      "execution_count": 53,
      "outputs": [
        {
          "output_type": "stream",
          "name": "stdout",
          "text": [
            "2\n",
            "--------------------------------------------------\n",
            "5\n",
            "--------------------------------------------------\n",
            "93\n",
            "-1\n",
            "--------------------------------------------------\n",
            "93\n"
          ]
        }
      ]
    },
    {
      "cell_type": "code",
      "source": [
        "# 문자열 관련 함수\n",
        "\n",
        "s=input('문자열을 입력하세요: ')\n",
        "#처음부터 끝까지 -1증감분\n",
        "print(s[::-1])"
      ],
      "metadata": {
        "colab": {
          "base_uri": "https://localhost:8080/"
        },
        "id": "KgniVxVsL-ly",
        "outputId": "2088ce3e-66d5-4bec-f637-e87cf9a198cb"
      },
      "id": "KgniVxVsL-ly",
      "execution_count": 54,
      "outputs": [
        {
          "output_type": "stream",
          "name": "stdout",
          "text": [
            "문자열을 입력하세요: 하이루!\n",
            "!루이하\n"
          ]
        }
      ]
    },
    {
      "cell_type": "code",
      "source": [
        "#split, .을 기준으로 list형식으로 나옴\n",
        "a = 'test.py'\n",
        "print(a.split('.'))\n",
        "\n",
        "b=a.split('.')\n",
        "print(f'파일명:{b[0]}, 확장자:{b[1]}')\n",
        "\n",
        "\n",
        "#replace\n",
        "a = 'test.py'\n",
        "print(a.replace('.','!'))"
      ],
      "metadata": {
        "colab": {
          "base_uri": "https://localhost:8080/"
        },
        "id": "-ah6J0QsO7Yt",
        "outputId": "6e3405a7-30a9-4c32-cb86-9418b2d72263"
      },
      "id": "-ah6J0QsO7Yt",
      "execution_count": 61,
      "outputs": [
        {
          "output_type": "stream",
          "name": "stdout",
          "text": [
            "['test', 'py']\n",
            "파일명:test, 확장자:py\n",
            "test!py\n"
          ]
        }
      ]
    },
    {
      "cell_type": "markdown",
      "id": "0f48d7cf",
      "metadata": {
        "id": "0f48d7cf"
      },
      "source": [
        "## 2-4.변수 활용"
      ]
    },
    {
      "cell_type": "markdown",
      "id": "d26c5d6e",
      "metadata": {
        "id": "d26c5d6e"
      },
      "source": [
        "### [실습문제]: 지불할 음식 총 가격 계산하기\n",
        "- 음식가격:  4,450 원\n",
        "- 세금: 6.75%\n",
        "- 팁: 15%\n",
        "1. meal 변수를 선언하고 값을 4450으로 지정하세요.\n",
        "2. tax 변수를 생성하고 값으로 6.75%를 소수점 형태로 지정하세요.\n",
        "3. tip 변수를 생성하고 값으로 15%를 소수점 형태로 지정하세요.\n",
        "4. meal의 변수값에 세금을 곱해 meal 변수에 지정하세요.\n",
        "5. 음식값에 tip을 더해 total 변수에 지정하세요.\n",
        "6. total 변수 값을 출력하세요."
      ]
    },
    {
      "cell_type": "code",
      "execution_count": 66,
      "id": "933828b3",
      "metadata": {
        "id": "933828b3",
        "colab": {
          "base_uri": "https://localhost:8080/"
        },
        "outputId": "0903d99f-a20f-4a75-f2a5-88048f6d6c96"
      },
      "outputs": [
        {
          "output_type": "stream",
          "name": "stdout",
          "text": [
            "5417.875\n",
            "------------------------------\n",
            "5462.93125\n"
          ]
        }
      ],
      "source": [
        "# meal 변수를 선언하고 값을 4450으로 지정하세요.\n",
        "# tax 변수를 생성하고 값으로 6.75%를 소수점 형태로 지정하세요.\n",
        "# tip 변수를 생성하고 값으로 15%를 소수점 형태로 지정하세요.\n",
        "meal = 4450    # 1.음식가격\n",
        "tax = 0.0675   # 2.세금\n",
        "tip = 0.15     # 3.팁\n",
        "\n",
        "\n",
        "# meal의 변수값에 세금을 곱해 meal 변수에 지정하세요.\n",
        "# 음식값에 tip을 더해 total 변수에 지정하세요. (tip을 원가격에서 계산하는게 아니라 세금 뗀 가격에서 계산해야함)\n",
        "total = meal + (meal*tax) + (meal*tip)\n",
        "# total 변수 값을 출력하세요.\n",
        "print(total)\n",
        "print('-'*30)\n",
        "\n",
        "#정답\n",
        "meal = meal + (meal * tax)\n",
        "total = meal + (meal * tip)\n",
        "print(total)"
      ]
    },
    {
      "cell_type": "markdown",
      "id": "a4fa74c9",
      "metadata": {
        "id": "a4fa74c9"
      },
      "source": [
        "### [실습문제]: 섭씨온도를 화씨온도로 변환하기\n",
        "- 섭씨 온도 (Celsius): 1 atm에서의 물의 어는점을 0도, 끓는점을 100도로 정한 온도 체계. (°C)\n",
        "\n",
        "\n",
        "- 화씨 온도 (Fahrenheit): 물이 어는 온도는 32도, 물이 끓는 온도는 212도. 180등분. (°F)\n",
        "- 섭씨온도(℃) = (5 / 9) × (℉ - 32)  # Celsius\n",
        "- 화씨온도(℉) = (9 / 5) × ℃ + 32    # Fahrenheit"
      ]
    },
    {
      "cell_type": "code",
      "execution_count": null,
      "id": "d65f3301",
      "metadata": {
        "scrolled": true,
        "id": "d65f3301"
      },
      "outputs": [],
      "source": [
        "c_temp = input()\n",
        "#키보드로부터 입력을 받는 함수: input()\n",
        "c_temp = int(c_temp)\n",
        "# 정수로 변환: int()\n",
        "print(c_temp, type(c_temp) )\n",
        "\n",
        "#화씨\n",
        "f_temp = (9/5)*c_temp+32\n",
        "print(f_temp)\n",
        "\n",
        "#정답\n",
        "c_temp = float(input('온도를 입력해 주세요(화씨): '))\n",
        "f_temp = (9 / 5) * c_temp + 32\n",
        "print(f'화씨 온도 {c_temp}℃를 섭씨 온도로 변환하면 {f_temp}℉!')\n",
        "\n"
      ]
    },
    {
      "cell_type": "markdown",
      "id": "a57cbf87",
      "metadata": {
        "id": "a57cbf87"
      },
      "source": [
        "-------"
      ]
    },
    {
      "cell_type": "markdown",
      "id": "f0265f78",
      "metadata": {
        "id": "f0265f78"
      },
      "source": [
        "## 2-5.연산자"
      ]
    },
    {
      "cell_type": "markdown",
      "id": "bff8051d",
      "metadata": {
        "id": "bff8051d"
      },
      "source": [
        "### [실습문제]: 동전 교환 프로그램 만들기"
      ]
    },
    {
      "cell_type": "code",
      "source": [
        "a = 10\n",
        "a += 3\n",
        "print(a)  # 13 출력\n",
        "\n",
        "a -= 3\n",
        "print(a)  # 10 출력\n",
        "\n"
      ],
      "metadata": {
        "colab": {
          "base_uri": "https://localhost:8080/"
        },
        "id": "LpSpJh9cV7ok",
        "outputId": "6aebd0a1-50c9-46a6-fc19-42c3100c4203"
      },
      "id": "LpSpJh9cV7ok",
      "execution_count": 72,
      "outputs": [
        {
          "output_type": "stream",
          "name": "stdout",
          "text": [
            "13\n",
            "10\n"
          ]
        }
      ]
    },
    {
      "cell_type": "code",
      "source": [
        "#논리연산자: and, or, not\n",
        "(a>100)and(a<200)\n",
        "(a==100)and(a==200)\n",
        "not(a<100)"
      ],
      "metadata": {
        "id": "2Xtt30nxWhEo"
      },
      "id": "2Xtt30nxWhEo",
      "execution_count": null,
      "outputs": []
    },
    {
      "cell_type": "code",
      "source": [
        "#맴버쉽 연산자: in, not in\n",
        "a='python'\n",
        "'p' in a\n",
        "'s' in a\n",
        "'p' not in a"
      ],
      "metadata": {
        "colab": {
          "base_uri": "https://localhost:8080/"
        },
        "id": "1YZW5UrZWx_-",
        "outputId": "8b68d1ef-f6d0-4d80-ea31-94f0428fcb9e"
      },
      "id": "1YZW5UrZWx_-",
      "execution_count": 75,
      "outputs": [
        {
          "output_type": "execute_result",
          "data": {
            "text/plain": [
              "False"
            ]
          },
          "metadata": {},
          "execution_count": 75
        }
      ]
    },
    {
      "cell_type": "code",
      "execution_count": 85,
      "id": "105db988",
      "metadata": {
        "id": "105db988",
        "colab": {
          "base_uri": "https://localhost:8080/"
        },
        "outputId": "b42a3e02-0cf6-4fb2-cc5a-f3370cca14f6"
      },
      "outputs": [
        {
          "output_type": "stream",
          "name": "stdout",
          "text": [
            "---동전교환기 프로그램을 작동합니다.---\n",
            "금액을 입력하세요: 5420\n",
            "동전으로 교환하겠습니다.---------\n",
            "500원짜리 ==> 10개\n",
            "100원짜리 ==> 4개\n",
            "50원짜리 ==> 0개\n",
            "10원짜리 ==> 2개\n",
            "잔돈 ==> 0원\n"
          ]
        }
      ],
      "source": [
        "# 키보드로부터 금액 입력 받기\n",
        "print('---동전교환기 프로그램을 작동합니다.---')\n",
        "money = int( input('금액을 입력하세요: '))\n",
        "print('동전으로 교환하겠습니다.---------')\n",
        "#큰단위로 계산\n",
        "\n",
        "# print(f'500원짜리 =>{money // 500}개')\n",
        "# money=money//500\n",
        "# print(f'100원짜리 =>{money // 100}개')\n",
        "# money//100\n",
        "# print(f'50원짜리 =>{money // 50}개')\n",
        "# money//50\n",
        "# print(f'10원짜리 =>{money // 10}개')\n",
        "# money%10\n",
        "# print(f'잔돈=>{money}원')\n",
        "\n",
        "#정답 =>나중에 반복문으로 변화 가능\n",
        "print(f\"500원짜리 ==> {money // 500}개\")\n",
        "money %= 500\n",
        "print(f\"100원짜리 ==> {money // 100}개\")\n",
        "money %= 100\n",
        "print(f\"50원짜리 ==> {money // 50}개\")\n",
        "money %= 50\n",
        "print(f\"10원짜리 ==> {money // 10}개\")\n",
        "money %= 10\n",
        "print(f\"잔돈 ==> {money}원\")\n",
        "\n",
        "\n",
        "\n",
        "\n",
        "\n"
      ]
    },
    {
      "cell_type": "markdown",
      "id": "f359d4a1",
      "metadata": {
        "id": "f359d4a1"
      },
      "source": [
        "-----------------------------------------"
      ]
    },
    {
      "cell_type": "markdown",
      "id": "d8c018ca",
      "metadata": {
        "id": "d8c018ca"
      },
      "source": [
        "## 2-6.리스트(List)\n",
        "- 리스트는 여러 개의 데이터 값을 하나의 변수에 담을 수 있는 데이터 구조\n",
        "- 리스트는 순서(인덱스)가 있고 데이터를 수정, 삭제, 추가 가능하다.\n",
        "- 대괄호로 표현되고 내부 원소는 ,(쉼표)로 구분됨"
      ]
    },
    {
      "cell_type": "markdown",
      "id": "693f2484",
      "metadata": {
        "id": "693f2484"
      },
      "source": [
        "### 리스트 생성"
      ]
    },
    {
      "cell_type": "code",
      "execution_count": 90,
      "id": "a1b79606",
      "metadata": {
        "id": "a1b79606"
      },
      "outputs": [],
      "source": [
        "a = list()\n",
        "a = []\n",
        "a = [1,2,3]\n",
        "a = ['I', 'Love', 'Python']\n",
        "b = [1,2, '사랑해요', 'Python']\n",
        "b = ['a', '1', 1, [2,3], -4]\n",
        "a = [1,2,['a','b',['사랑해', '파이썬']], 3]\n",
        "\n"
      ]
    },
    {
      "cell_type": "code",
      "execution_count": 92,
      "id": "df23f6cf",
      "metadata": {
        "id": "df23f6cf",
        "colab": {
          "base_uri": "https://localhost:8080/"
        },
        "outputId": "879c22c8-65d0-4df0-941c-3e579a1fffcb"
      },
      "outputs": [
        {
          "output_type": "stream",
          "name": "stdout",
          "text": [
            "[1, 2, ['a', 'b', ['사랑해', '파이썬']], 3]\n",
            "['a', '1', 1, [2, 3], -4]\n"
          ]
        }
      ],
      "source": [
        "#변수는 맨 마지막에 있는거 1개가 담긴다\n",
        "print(a)\n",
        "print(b)"
      ]
    },
    {
      "cell_type": "code",
      "source": [
        "range(10)\n",
        "print(range(10))\n",
        "print(list(range(10)))\n",
        "\n",
        "#문자열을 리스트로 만들기\n",
        "a='python'\n",
        "list(a)\n",
        "\n"
      ],
      "metadata": {
        "colab": {
          "base_uri": "https://localhost:8080/"
        },
        "id": "hxKCDRd4gBHS",
        "outputId": "9991199e-5598-4d23-c8fe-b266b17883a8"
      },
      "id": "hxKCDRd4gBHS",
      "execution_count": 96,
      "outputs": [
        {
          "output_type": "stream",
          "name": "stdout",
          "text": [
            "range(0, 10)\n",
            "[0, 1, 2, 3, 4, 5, 6, 7, 8, 9]\n"
          ]
        },
        {
          "output_type": "execute_result",
          "data": {
            "text/plain": [
              "['p', 'y', 't', 'h', 'o', 'n']"
            ]
          },
          "metadata": {},
          "execution_count": 96
        }
      ]
    },
    {
      "cell_type": "code",
      "source": [
        "article = '''오늘 남부지방과 제주도는 대체로 흐린 가운데 비가 내리겠습니다.\n",
        "예상 강수량은 영남 해안 지역이 30에서 80mm, 많은 곳은 100mm 이상이고, 그 밖의 남부지방과 제주도는 10에서 60mm입니다.\n",
        "비가 오는 동안 천둥·번개가 치고, 한 시간에 30mm가 넘는 강한 비가 쏟아지는 곳이 있겠습니다.\n",
        "남부지방과 제주도의 비는 내일 오전까지 계속되는 곳이 있겠습니다.\n",
        "오늘 중부지방은 가끔 구름이 많이 끼는 가운데 오후에 5에서 30mm의 소나기가 오는 곳이 있겠습니다.\n",
        "낮 최고기온은 서울 33도 등 전국이 26도에서 34도로 어제와 비슷하거나 조금 더 높겠습니다.\n",
        "바다의 물결은 남해 먼바다와 제주도 해상에서 최고 2.5m로 비교적 높게 일겠습니다.\n",
        "동해안과 경남 남해안에는 높은 너울이 밀려오는 곳이 있겠고, 동해상에는 짙은 안개가 끼는 곳이 있겠습니다.\n",
        "'''\n",
        "\n",
        "# list(article)\n",
        "article = article.replace('남부', '중부').replace('제주도','독도')\n",
        "words = article.split(' ')\n",
        "print(f'리스트의 요소 개수(길이): {len(words)}')\n",
        "print(words)\n"
      ],
      "metadata": {
        "colab": {
          "base_uri": "https://localhost:8080/"
        },
        "id": "w6bx5Ib1hGP5",
        "outputId": "f9c24170-6d1e-4bf4-9188-6a465429e351"
      },
      "id": "w6bx5Ib1hGP5",
      "execution_count": 103,
      "outputs": [
        {
          "output_type": "stream",
          "name": "stdout",
          "text": [
            "리스트의 요소 개수(길이): 92\n",
            "['오늘', '중부지방과', '독도는', '대체로', '흐린', '가운데', '비가', '내리겠습니다.\\n예상', '강수량은', '영남', '해안', '지역이', '30에서', '80mm,', '많은', '곳은', '100mm', '이상이고,', '그', '밖의', '중부지방과', '독도는', '10에서', '60mm입니다.\\n비가', '오는', '동안', '천둥·번개가', '치고,', '한', '시간에', '30mm가', '넘는', '강한', '비가', '쏟아지는', '곳이', '있겠습니다.\\n중부지방과', '독도의', '비는', '내일', '오전까지', '계속되는', '곳이', '있겠습니다.\\n오늘', '중부지방은', '가끔', '구름이', '많이', '끼는', '가운데', '오후에', '5에서', '30mm의', '소나기가', '오는', '곳이', '있겠습니다.\\n낮', '최고기온은', '서울', '33도', '등', '전국이', '26도에서', '34도로', '어제와', '비슷하거나', '조금', '더', '높겠습니다.\\n바다의', '물결은', '남해', '먼바다와', '독도', '해상에서', '최고', '2.5m로', '비교적', '높게', '일겠습니다.\\n동해안과', '경남', '남해안에는', '높은', '너울이', '밀려오는', '곳이', '있겠고,', '동해상에는', '짙은', '안개가', '끼는', '곳이', '있겠습니다.\\n']\n"
          ]
        }
      ]
    },
    {
      "cell_type": "code",
      "source": [
        "num=list()\n",
        "for i in range(1,21,2):\n",
        "  num.append(i)\n",
        "  print(num)"
      ],
      "metadata": {
        "colab": {
          "base_uri": "https://localhost:8080/"
        },
        "id": "QkgLD0D-fq0T",
        "outputId": "5f70d436-302c-4fdc-d2d9-e11e8786946e"
      },
      "id": "QkgLD0D-fq0T",
      "execution_count": 89,
      "outputs": [
        {
          "output_type": "stream",
          "name": "stdout",
          "text": [
            "[1]\n",
            "[1, 3]\n",
            "[1, 3, 5]\n",
            "[1, 3, 5, 7]\n",
            "[1, 3, 5, 7, 9]\n",
            "[1, 3, 5, 7, 9, 11]\n",
            "[1, 3, 5, 7, 9, 11, 13]\n",
            "[1, 3, 5, 7, 9, 11, 13, 15]\n",
            "[1, 3, 5, 7, 9, 11, 13, 15, 17]\n",
            "[1, 3, 5, 7, 9, 11, 13, 15, 17, 19]\n"
          ]
        }
      ]
    },
    {
      "cell_type": "markdown",
      "id": "7eef7d7c",
      "metadata": {
        "id": "7eef7d7c"
      },
      "source": [
        "### 리스트 전체 삭제"
      ]
    },
    {
      "cell_type": "code",
      "execution_count": 105,
      "id": "52a5a894",
      "metadata": {
        "id": "52a5a894",
        "colab": {
          "base_uri": "https://localhost:8080/"
        },
        "outputId": "82e92601-d456-46eb-e2bf-5a2def0a6c1a"
      },
      "outputs": [
        {
          "output_type": "stream",
          "name": "stdout",
          "text": [
            "[1, 2, 3]\n"
          ]
        }
      ],
      "source": [
        "a=[1,2,3]\n",
        "b=[4,5,6]\n",
        "\n",
        "del(b)\n",
        "\n",
        "print(a)\n",
        "# print(b) #NameError: name 'b' is not defined"
      ]
    },
    {
      "cell_type": "markdown",
      "id": "b3ab38e4",
      "metadata": {
        "id": "b3ab38e4"
      },
      "source": [
        "### 리스트 요소에 접근"
      ]
    },
    {
      "cell_type": "code",
      "execution_count": 107,
      "id": "d36d5b62",
      "metadata": {
        "scrolled": true,
        "id": "d36d5b62",
        "colab": {
          "base_uri": "https://localhost:8080/"
        },
        "outputId": "f84f557a-2cac-4b40-ac8b-2eb0a3f4887f"
      },
      "outputs": [
        {
          "output_type": "stream",
          "name": "stdout",
          "text": [
            "mint\n",
            "['black', 'white']\n",
            "white\n"
          ]
        }
      ],
      "source": [
        "colors=['purple' ,'mint',['black', 'white'], 'red', 'green']\n",
        "print( colors[1] )\n",
        "print( colors[2] )\n",
        "print( colors[2][1] )\n",
        "\n"
      ]
    },
    {
      "cell_type": "markdown",
      "id": "b7811d5d",
      "metadata": {
        "id": "b7811d5d"
      },
      "source": [
        "### 리스트 요소 추가 / 변경"
      ]
    },
    {
      "cell_type": "code",
      "execution_count": 113,
      "id": "010220d8",
      "metadata": {
        "id": "010220d8",
        "colab": {
          "base_uri": "https://localhost:8080/"
        },
        "outputId": "4036a22e-bea5-4929-881d-490694e0ea1d"
      },
      "outputs": [
        {
          "output_type": "stream",
          "name": "stdout",
          "text": [
            "['purple', 'mint', ['black', '여름', 'white'], 'red', 'green']\n"
          ]
        }
      ],
      "source": [
        "colors=['purple' ,'mint',['black', 'white'], 'red', 'green']\n",
        "\n",
        "print(colors)\n",
        "colors.append('봄')     # 리스트 맨 끝에 추가 / JS에 push와 유사\n",
        "print(colors)\n",
        "colors.insert(1, '봄')  # 리스트명.insert(인덱스위치, 값) / JS에 splice와 유사 array.splice(startIndex, 0, item1, item2, ...);\n",
        "print(colors)\n",
        "colors[2].insert(1,'여름') # 원 데이터를 변경하는 것\n",
        "print(colors)\n"
      ]
    },
    {
      "cell_type": "code",
      "source": [
        "#리스트 요소 변경\n",
        "colors[1] = 'light green' #해당 위치에 값을 대입\n",
        "print(colors)\n",
        "colors[2][0] = 'gray'\n",
        "print(colors)\n",
        "\n",
        "#슬라이싱\n",
        "colors[3:] = 'yellow'\n",
        "print(colors)"
      ],
      "metadata": {
        "colab": {
          "base_uri": "https://localhost:8080/"
        },
        "id": "eSjVLNc9lyn2",
        "outputId": "68c9819f-b5b1-4067-9d50-0061a41059ac"
      },
      "id": "eSjVLNc9lyn2",
      "execution_count": 118,
      "outputs": [
        {
          "output_type": "stream",
          "name": "stdout",
          "text": [
            "['purple', 'light green', ['gray', 'gray', 'white'], 'red', 'green']\n",
            "['purple', 'light green', ['gray', 'gray', 'white'], 'red', 'green']\n",
            "['purple', 'light green', ['gray', 'gray', 'white'], 'y', 'e', 'l', 'l', 'o', 'w']\n"
          ]
        }
      ]
    },
    {
      "cell_type": "markdown",
      "id": "5a5820d1",
      "metadata": {
        "id": "5a5820d1"
      },
      "source": [
        "### 리스트 요소 삭제"
      ]
    },
    {
      "cell_type": "code",
      "execution_count": 126,
      "id": "e4c76b68",
      "metadata": {
        "id": "e4c76b68",
        "colab": {
          "base_uri": "https://localhost:8080/"
        },
        "outputId": "099bd050-a0d9-40bd-eae0-944ebd513653"
      },
      "outputs": [
        {
          "output_type": "stream",
          "name": "stdout",
          "text": [
            "['purple', 'mint', ['black', 'white'], 'red', 'green']\n",
            "['purple', 'mint', ['black', 'white'], 'red']\n",
            "['mint', ['black', 'white'], 'red']\n",
            "['mint', 'red']\n",
            "['mint']\n",
            "[]\n"
          ]
        }
      ],
      "source": [
        "colors=['purple' ,'mint',['black', 'white'], 'red', 'green']\n",
        "\n",
        "print(colors)\n",
        "colors.pop()     # 리스트 맨 끝 요소 삭제\n",
        "print(colors)\n",
        "colors.remove('purple')  # 리스트명.remove(값), 단 여러 개 일 경우 첫 번째 값만 삭제됨\n",
        "print(colors)\n",
        "colors.remove(colors[1])\n",
        "print(colors)\n",
        "\n",
        "del colors[3] #특정위치 요소 제거\n",
        "print(colors)\n",
        "\n",
        "for _ in range(-1,-3,-1):\n",
        "  colors.pop()\n",
        "  print(colors)\n",
        "  '''\n",
        "  for 루프가 시작됩니다.\n",
        "  range(-1, -3, -1)은 -1부터 시작하여 -3 전까지 감소하는 범위를 나타냅니다.\n",
        "  즉, -1, -2 두 숫자가 반복됩니다.\n",
        "  '''"
      ]
    },
    {
      "cell_type": "code",
      "source": [
        "list(range(-1,-5,-1)) #반복문에서 loop돌리는거랑 비슷 i=-1, (++i)\n",
        "list(range(-1,-10,-2))\n",
        "\n",
        "'''Javascript\n",
        "let result = [];\n",
        "for (let i = -1; i > -10; i -= 2) {\n",
        "    result.push(i);\n",
        "}\n",
        "'''"
      ],
      "metadata": {
        "colab": {
          "base_uri": "https://localhost:8080/"
        },
        "id": "AA85EjKjqLsV",
        "outputId": "79fa7bbf-ac42-472f-a09b-7729176f7f3f"
      },
      "id": "AA85EjKjqLsV",
      "execution_count": 129,
      "outputs": [
        {
          "output_type": "execute_result",
          "data": {
            "text/plain": [
              "[-1, -3, -5, -7, -9]"
            ]
          },
          "metadata": {},
          "execution_count": 129
        }
      ]
    },
    {
      "cell_type": "markdown",
      "source": [
        "###2차원 리스트"
      ],
      "metadata": {
        "id": "AlO7dHYgq6Ku"
      },
      "id": "AlO7dHYgq6Ku"
    },
    {
      "cell_type": "code",
      "source": [
        "numbers = [[10,20,30], [40,50,60,70]]\n",
        "print (numbers[0])\n",
        "print (numbers [1])\n",
        "print (numbers[0][2])\n",
        "print(numbers[1][2])\n",
        "#슬라이싱\n",
        "print (numbers [1][0:3])"
      ],
      "metadata": {
        "id": "Ld6m26scq8Sb"
      },
      "id": "Ld6m26scq8Sb",
      "execution_count": null,
      "outputs": []
    },
    {
      "cell_type": "code",
      "source": [
        "#임의의 수 생성해서 리스트 만들고 정렬하기\n",
        "import random\n",
        "\n",
        "numbers=[]\n",
        "numbers=list()\n",
        "\n",
        "#1~100까지 정수중에 임의로 하나 뽑기\n",
        "numbers.append(random.randint(1,100))\n",
        "numbers.append(random.randint(1,100))\n",
        "numbers.append(random.randint(1,100))\n",
        "numbers.append(random.randint(1,100))\n",
        "numbers.append(random.randint(1,100))\n",
        "print(f'정렬 전: {numbers}')\n",
        "\n",
        "\n",
        "#정렬하기\n",
        "numbers.sort()\n",
        "print(f'오름차순 정렬 후: {numbers}')\n",
        "\n",
        "numbers.reverse()\n",
        "print(f'내림차순 정렬 후: {numbers}')"
      ],
      "metadata": {
        "colab": {
          "base_uri": "https://localhost:8080/"
        },
        "id": "o8LUge_5rwbq",
        "outputId": "c9c842e6-e997-4b8c-8e32-9879b915e82a"
      },
      "id": "o8LUge_5rwbq",
      "execution_count": 142,
      "outputs": [
        {
          "output_type": "stream",
          "name": "stdout",
          "text": [
            "정렬 전: [41, 96, 25, 87, 87]\n",
            "정렬 후: [25, 41, 87, 87, 96]\n",
            "내림차후 정렬 후: [96, 87, 87, 41, 25]\n"
          ]
        }
      ]
    },
    {
      "cell_type": "markdown",
      "id": "df6f6d08",
      "metadata": {
        "id": "df6f6d08"
      },
      "source": [
        "## 2-7.딕셔너리(Dictionary)\n",
        "- 딕셔너리는 쌍이 하나로 묶인 자료구조\n",
        "- 인덱스를 의미하는 ‘키(key)'와 자료의 내용인 ‘ 값(value)'을 이용하여  데이터를 관리\n",
        "- 중괄호 { }로 묶어 구성, 키(Key)와 값(Value)의 쌍으로 구성\n",
        "- 순서(sequence)가 없다"
      ]
    },
    {
      "cell_type": "markdown",
      "id": "4393e9e4",
      "metadata": {
        "id": "4393e9e4"
      },
      "source": [
        "### 딕셔너리 생성"
      ]
    },
    {
      "cell_type": "code",
      "execution_count": 149,
      "id": "da6bca38",
      "metadata": {
        "id": "da6bca38",
        "colab": {
          "base_uri": "https://localhost:8080/"
        },
        "outputId": "3d503b7a-b953-4d34-c475-59012359d640"
      },
      "outputs": [
        {
          "output_type": "stream",
          "name": "stdout",
          "text": [
            "<class 'dict'> {}\n",
            "<class 'dict'> {'name': '진', 'age': 29, 'email': 'jin@gggmail.com'}\n",
            "진\n",
            "29\n",
            "{'name': '진', 'age': 29, 'email': 'jin@gggmail.com', 7: ['정국', '뷔', '지민']}\n",
            "{'name': '이주리', 'age': 29, 'email': 'jin@gggmail.com', 7: ['정국', '뷔', '지민']}\n"
          ]
        }
      ],
      "source": [
        "members={}\n",
        "members=dict()\n",
        "print(type(members),members)\n",
        "\n",
        "members = {'name':'진', 'age':29, 'email':'jin@gggmail.com'}\n",
        "print(type(members),members)\n",
        "print(members['name'])\n",
        "print(members['age'])\n",
        "\n",
        "members[7] = ['정국','뷔','지민'] #새로운 키(key):값(value) 추가\n",
        "print(members)\n",
        "\n",
        "members['name']='이주리'\n",
        "print(members)"
      ]
    },
    {
      "cell_type": "markdown",
      "id": "b5f4d763",
      "metadata": {
        "id": "b5f4d763"
      },
      "source": [
        "### 딕셔너리 키(key)와 값(value)에 접근하기"
      ]
    },
    {
      "cell_type": "code",
      "execution_count": 154,
      "id": "0697a654",
      "metadata": {
        "id": "0697a654",
        "colab": {
          "base_uri": "https://localhost:8080/"
        },
        "outputId": "d12179ad-8189-40bf-bd6d-a74c34a858e2"
      },
      "outputs": [
        {
          "output_type": "stream",
          "name": "stdout",
          "text": [
            "100\n",
            "---방법1---\n",
            "국어=>100\n",
            "수학=>90\n",
            "영어=>80\n",
            "dict_items([('국어', 100), ('수학', 90), ('영어', 80)])\n"
          ]
        }
      ],
      "source": [
        "scores = {'국어': 100, '수학': 90, '영어': 80}\n",
        "\n",
        "print(scores['국어'])  # 딕셔너리는 키로 접근한다.\n",
        "\n",
        "# 방법1\n",
        "print('---방법1---')\n",
        "for key in scores:\n",
        "    # print('%s => %s' % (key, scores[key]))\n",
        "    print(f'{key}=>{scores[key]}')\n",
        "\n",
        "print(scores.items()) #dict_items([('국어', 100), ('수학', 90), ('영어', 80)]) 튜플형태\n",
        "\n",
        "# 방법2\n",
        "print('---방법2---')\n",
        "for key, value in scores.items():\n",
        "    print('%s => %s' % (key, value))"
      ]
    },
    {
      "cell_type": "code",
      "execution_count": 155,
      "id": "011745db",
      "metadata": {
        "id": "011745db",
        "colab": {
          "base_uri": "https://localhost:8080/"
        },
        "outputId": "957a9549-98c0-4d20-d061-e1c6cf3fe127"
      },
      "outputs": [
        {
          "output_type": "stream",
          "name": "stdout",
          "text": [
            "dict_keys(['국어', '수학', '영어'])\n",
            "dict_values([100, 90, 80])\n",
            "dict_items([('국어', 100), ('수학', 90), ('영어', 80)])\n"
          ]
        }
      ],
      "source": [
        "print(scores.keys())   # key만 추출 리스트 형태로 반환\n",
        "print(scores.values()) # value만 추출 리스트 형태로 반환\n",
        "print(scores.items())  # (키,값)쌍 형태로 추출 리스트 형태로 반환"
      ]
    },
    {
      "cell_type": "markdown",
      "id": "7d76f114",
      "metadata": {
        "id": "7d76f114"
      },
      "source": [
        "### 딕셔너리에 요소 추가/수정/삭제"
      ]
    },
    {
      "cell_type": "code",
      "execution_count": 160,
      "id": "f15a3506",
      "metadata": {
        "id": "f15a3506",
        "colab": {
          "base_uri": "https://localhost:8080/"
        },
        "outputId": "3390b471-184c-4f16-8b33-de5b0c7178d1"
      },
      "outputs": [
        {
          "output_type": "stream",
          "name": "stdout",
          "text": [
            "{'국어': 100, '수학': 90, '영어': 80}\n",
            "{'국어': 100, '수학': 90, '영어': 80, 'music': 100}\n",
            "{'국어': 100, '수학': 99, '영어': 80, 'music': 100}\n",
            "{'국어': 100, '수학': 99, 'music': 100}\n",
            "{'music': 100}\n"
          ]
        }
      ],
      "source": [
        "#key값은 항상 unique해야함, 인터넷 JSON이 다 이렇게 돼있음\n",
        "\n",
        "scores = {'국어': 100, '수학': 90, '영어': 80}\n",
        "print(scores)\n",
        "\n",
        "# 키로 요소 추가하기\n",
        "scores['music'] = 100\n",
        "print(scores)\n",
        "\n",
        "# 요소 값 수정하기\n",
        "scores['수학'] = 99\n",
        "print(scores)\n",
        "\n",
        "# 요소 삭제하기\n",
        "\n",
        "del scores['영어']\n",
        "print(scores)\n",
        "del (scores['국어'], scores['수학'])\n",
        "print(scores)"
      ]
    },
    {
      "cell_type": "code",
      "source": [
        "#튜플 :튜플은 요소들의 수정과 추가가 불가하다\n",
        "a=tuple()\n",
        "a=()\n",
        "print(type(a), a)\n",
        "\n",
        "a=(1)\n",
        "print(type(a), a) #Integer\n",
        "a=(1,) #튜플에 요소 1개를 정의할 때는 반드시 , 사용\n",
        "print(type(a), a)\n",
        "\n",
        "a=('a','b','c', 4, 5)\n",
        "print(type(a))\n",
        "\n",
        "print(a[3]) #index, slicing은 먹힘\n",
        "print(a[:3])\n",
        "# a[3]=44 #TypeError: 'tuple' object does not support item assignment\n",
        "\n",
        "#집합(set) - 중복 배제!!\n",
        "mySet1={1,2,3,3,3,3,4,5}\n",
        "print(mySet1)\n",
        "\n",
        "a=set() #딕셔너리랑 겹치기 때문에 빈 집합은 이렇게만 만들수있음\n",
        "a=set([1,2,3])\n",
        "a={1,2,3}\n",
        "a=set(\"hello\") #{'o', 'h', 'l', 'e'}\n",
        "print(a)\n",
        "\n",
        "fruits=['apple', 'banana', 'orange','grape']\n",
        "a = set(fruits)\n",
        "print(type(a),a)\n",
        "\n",
        "a = list(set(fruits))\n",
        "a.sort()\n",
        "print(type(a),a)"
      ],
      "metadata": {
        "colab": {
          "base_uri": "https://localhost:8080/"
        },
        "id": "KMrEulj55wCM",
        "outputId": "e62ed390-3f00-4246-9497-5044fa9fcd02"
      },
      "id": "KMrEulj55wCM",
      "execution_count": 171,
      "outputs": [
        {
          "output_type": "stream",
          "name": "stdout",
          "text": [
            "<class 'tuple'> ()\n",
            "<class 'int'> 1\n",
            "<class 'tuple'> (1,)\n",
            "<class 'tuple'>\n",
            "4\n",
            "('a', 'b', 'c')\n",
            "{1, 2, 3, 4, 5}\n",
            "{'o', 'h', 'l', 'e'}\n",
            "<class 'set'> {'grape', 'orange', 'apple', 'banana'}\n",
            "<class 'list'> ['apple', 'banana', 'grape', 'orange']\n"
          ]
        }
      ]
    },
    {
      "cell_type": "code",
      "source": [
        "# help(tuple)\n",
        "# help(list)\n",
        "help(set)"
      ],
      "metadata": {
        "colab": {
          "base_uri": "https://localhost:8080/"
        },
        "id": "YltdezpP-fQ0",
        "outputId": "f1bfef56-4e18-4611-e5d4-f278fef75eb5"
      },
      "id": "YltdezpP-fQ0",
      "execution_count": 174,
      "outputs": [
        {
          "output_type": "stream",
          "name": "stdout",
          "text": [
            "Help on class set in module builtins:\n",
            "\n",
            "class set(object)\n",
            " |  set() -> new empty set object\n",
            " |  set(iterable) -> new set object\n",
            " |  \n",
            " |  Build an unordered collection of unique elements.\n",
            " |  \n",
            " |  Methods defined here:\n",
            " |  \n",
            " |  __and__(self, value, /)\n",
            " |      Return self&value.\n",
            " |  \n",
            " |  __contains__(...)\n",
            " |      x.__contains__(y) <==> y in x.\n",
            " |  \n",
            " |  __eq__(self, value, /)\n",
            " |      Return self==value.\n",
            " |  \n",
            " |  __ge__(self, value, /)\n",
            " |      Return self>=value.\n",
            " |  \n",
            " |  __getattribute__(self, name, /)\n",
            " |      Return getattr(self, name).\n",
            " |  \n",
            " |  __gt__(self, value, /)\n",
            " |      Return self>value.\n",
            " |  \n",
            " |  __iand__(self, value, /)\n",
            " |      Return self&=value.\n",
            " |  \n",
            " |  __init__(self, /, *args, **kwargs)\n",
            " |      Initialize self.  See help(type(self)) for accurate signature.\n",
            " |  \n",
            " |  __ior__(self, value, /)\n",
            " |      Return self|=value.\n",
            " |  \n",
            " |  __isub__(self, value, /)\n",
            " |      Return self-=value.\n",
            " |  \n",
            " |  __iter__(self, /)\n",
            " |      Implement iter(self).\n",
            " |  \n",
            " |  __ixor__(self, value, /)\n",
            " |      Return self^=value.\n",
            " |  \n",
            " |  __le__(self, value, /)\n",
            " |      Return self<=value.\n",
            " |  \n",
            " |  __len__(self, /)\n",
            " |      Return len(self).\n",
            " |  \n",
            " |  __lt__(self, value, /)\n",
            " |      Return self<value.\n",
            " |  \n",
            " |  __ne__(self, value, /)\n",
            " |      Return self!=value.\n",
            " |  \n",
            " |  __or__(self, value, /)\n",
            " |      Return self|value.\n",
            " |  \n",
            " |  __rand__(self, value, /)\n",
            " |      Return value&self.\n",
            " |  \n",
            " |  __reduce__(...)\n",
            " |      Return state information for pickling.\n",
            " |  \n",
            " |  __repr__(self, /)\n",
            " |      Return repr(self).\n",
            " |  \n",
            " |  __ror__(self, value, /)\n",
            " |      Return value|self.\n",
            " |  \n",
            " |  __rsub__(self, value, /)\n",
            " |      Return value-self.\n",
            " |  \n",
            " |  __rxor__(self, value, /)\n",
            " |      Return value^self.\n",
            " |  \n",
            " |  __sizeof__(...)\n",
            " |      S.__sizeof__() -> size of S in memory, in bytes\n",
            " |  \n",
            " |  __sub__(self, value, /)\n",
            " |      Return self-value.\n",
            " |  \n",
            " |  __xor__(self, value, /)\n",
            " |      Return self^value.\n",
            " |  \n",
            " |  add(...)\n",
            " |      Add an element to a set.\n",
            " |      \n",
            " |      This has no effect if the element is already present.\n",
            " |  \n",
            " |  clear(...)\n",
            " |      Remove all elements from this set.\n",
            " |  \n",
            " |  copy(...)\n",
            " |      Return a shallow copy of a set.\n",
            " |  \n",
            " |  difference(...)\n",
            " |      Return the difference of two or more sets as a new set.\n",
            " |      \n",
            " |      (i.e. all elements that are in this set but not the others.)\n",
            " |  \n",
            " |  difference_update(...)\n",
            " |      Remove all elements of another set from this set.\n",
            " |  \n",
            " |  discard(...)\n",
            " |      Remove an element from a set if it is a member.\n",
            " |      \n",
            " |      If the element is not a member, do nothing.\n",
            " |  \n",
            " |  intersection(...)\n",
            " |      Return the intersection of two sets as a new set.\n",
            " |      \n",
            " |      (i.e. all elements that are in both sets.)\n",
            " |  \n",
            " |  intersection_update(...)\n",
            " |      Update a set with the intersection of itself and another.\n",
            " |  \n",
            " |  isdisjoint(...)\n",
            " |      Return True if two sets have a null intersection.\n",
            " |  \n",
            " |  issubset(...)\n",
            " |      Report whether another set contains this set.\n",
            " |  \n",
            " |  issuperset(...)\n",
            " |      Report whether this set contains another set.\n",
            " |  \n",
            " |  pop(...)\n",
            " |      Remove and return an arbitrary set element.\n",
            " |      Raises KeyError if the set is empty.\n",
            " |  \n",
            " |  remove(...)\n",
            " |      Remove an element from a set; it must be a member.\n",
            " |      \n",
            " |      If the element is not a member, raise a KeyError.\n",
            " |  \n",
            " |  symmetric_difference(...)\n",
            " |      Return the symmetric difference of two sets as a new set.\n",
            " |      \n",
            " |      (i.e. all elements that are in exactly one of the sets.)\n",
            " |  \n",
            " |  symmetric_difference_update(...)\n",
            " |      Update a set with the symmetric difference of itself and another.\n",
            " |  \n",
            " |  union(...)\n",
            " |      Return the union of sets as a new set.\n",
            " |      \n",
            " |      (i.e. all elements that are in either set.)\n",
            " |  \n",
            " |  update(...)\n",
            " |      Update a set with the union of itself and others.\n",
            " |  \n",
            " |  ----------------------------------------------------------------------\n",
            " |  Class methods defined here:\n",
            " |  \n",
            " |  __class_getitem__(...) from builtins.type\n",
            " |      See PEP 585\n",
            " |  \n",
            " |  ----------------------------------------------------------------------\n",
            " |  Static methods defined here:\n",
            " |  \n",
            " |  __new__(*args, **kwargs) from builtins.type\n",
            " |      Create and return a new object.  See help(type) for accurate signature.\n",
            " |  \n",
            " |  ----------------------------------------------------------------------\n",
            " |  Data and other attributes defined here:\n",
            " |  \n",
            " |  __hash__ = None\n",
            "\n"
          ]
        }
      ]
    },
    {
      "cell_type": "markdown",
      "id": "45e329e4",
      "metadata": {
        "id": "45e329e4"
      },
      "source": [
        "------------------------"
      ]
    },
    {
      "cell_type": "markdown",
      "id": "66025633",
      "metadata": {
        "id": "66025633"
      },
      "source": [
        "끝"
      ]
    },
    {
      "cell_type": "code",
      "source": [],
      "metadata": {
        "id": "tPteqOJyrudS"
      },
      "id": "tPteqOJyrudS",
      "execution_count": null,
      "outputs": []
    }
  ],
  "metadata": {
    "kernelspec": {
      "display_name": "Python 3 (ipykernel)",
      "language": "python",
      "name": "python3"
    },
    "language_info": {
      "codemirror_mode": {
        "name": "ipython",
        "version": 3
      },
      "file_extension": ".py",
      "mimetype": "text/x-python",
      "name": "python",
      "nbconvert_exporter": "python",
      "pygments_lexer": "ipython3",
      "version": "3.10.9"
    },
    "vscode": {
      "interpreter": {
        "hash": "b41e41bff03a930185ac2cbea60ce521f7c8c2f5401ceb5c30214081f77ab4f5"
      }
    },
    "colab": {
      "provenance": [],
      "include_colab_link": true
    }
  },
  "nbformat": 4,
  "nbformat_minor": 5
}