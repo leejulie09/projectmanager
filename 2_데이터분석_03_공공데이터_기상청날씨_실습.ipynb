{
  "cells": [
    {
      "cell_type": "markdown",
      "metadata": {
        "id": "view-in-github",
        "colab_type": "text"
      },
      "source": [
        "<a href=\"https://colab.research.google.com/github/leejulie09/projectmanager/blob/main/2_%E1%84%83%E1%85%A6%E1%84%8B%E1%85%B5%E1%84%90%E1%85%A5%E1%84%87%E1%85%AE%E1%86%AB%E1%84%89%E1%85%A5%E1%86%A8_03_%E1%84%80%E1%85%A9%E1%86%BC%E1%84%80%E1%85%A9%E1%86%BC%E1%84%83%E1%85%A6%E1%84%8B%E1%85%B5%E1%84%90%E1%85%A5_%E1%84%80%E1%85%B5%E1%84%89%E1%85%A1%E1%86%BC%E1%84%8E%E1%85%A5%E1%86%BC%E1%84%82%E1%85%A1%E1%86%AF%E1%84%8A%E1%85%B5_%EC%8B%A4%EC%8A%B5.ipynb\" target=\"_parent\"><img src=\"https://colab.research.google.com/assets/colab-badge.svg\" alt=\"Open In Colab\"/></a>"
      ]
    },
    {
      "cell_type": "markdown",
      "metadata": {
        "id": "aQmg7ipcaVpk"
      },
      "source": [
        "# Chapter4: 데이터 분석\n",
        "\n",
        "## 3. 공공데이터를 이용한 EDA 분석"
      ]
    },
    {
      "cell_type": "markdown",
      "metadata": {
        "id": "p1WCbKDiaVpm"
      },
      "source": [
        "## 02- 기상청 데이터 분석"
      ]
    },
    {
      "cell_type": "markdown",
      "metadata": {
        "id": "m4Gkk84saVpn"
      },
      "source": [
        "---"
      ]
    },
    {
      "cell_type": "markdown",
      "metadata": {
        "id": "L0jdi_ttaVpn"
      },
      "source": [
        "## 기상청 데이터 분석(종관데이터)"
      ]
    },
    {
      "cell_type": "markdown",
      "metadata": {
        "id": "PnyA_f3EaVpn"
      },
      "source": [
        "### #파이썬으로 데이터 분석하는 순서\n",
        " [사전준비] 필요한 파이썬 라이브러리 설치하기\n",
        " [사전준비] 데이터 준비하기 : 웹 사이트에서 공공데이터 다운로드하기\n",
        " 1. 데이터 불러오기 : 파이썬으로 데이터 읽어서 표로 나타내기\n",
        " 2. 데이터 전처리하기 : 필요한 데이터만 추출하기\n",
        " 3. 데이터 시각화하기 : 데이터 그래프로 나타내기\n",
        " 4. 데이터 저장하기 :  파일로 저장하기"
      ]
    },
    {
      "cell_type": "markdown",
      "metadata": {
        "id": "iKQEsHaVaVpo"
      },
      "source": [
        "---"
      ]
    },
    {
      "cell_type": "markdown",
      "metadata": {
        "id": "NIobvNWuaVpo"
      },
      "source": [
        "### #라이브러리 설치 확인하기\n",
        "아래 코드를 실행한 후 오류 메시지가 없으면 성공적으로 설치된 것입니다."
      ]
    },
    {
      "cell_type": "code",
      "execution_count": 1,
      "metadata": {
        "scrolled": true,
        "colab": {
          "base_uri": "https://localhost:8080/",
          "height": 36
        },
        "id": "5sDt5iSaaVpo",
        "outputId": "acc9994d-b5d6-4260-b341-461f37ffb44a"
      },
      "outputs": [
        {
          "output_type": "execute_result",
          "data": {
            "text/plain": [
              "'1.5.3'"
            ],
            "application/vnd.google.colaboratory.intrinsic+json": {
              "type": "string"
            }
          },
          "metadata": {},
          "execution_count": 1
        }
      ],
      "source": [
        "import pandas  as pd\n",
        "pd.__version__"
      ]
    },
    {
      "cell_type": "code",
      "execution_count": 2,
      "metadata": {
        "colab": {
          "base_uri": "https://localhost:8080/",
          "height": 36
        },
        "id": "2UGtL3BPaVpp",
        "outputId": "07be2495-d861-48fd-ecad-8f803ddf984c"
      },
      "outputs": [
        {
          "output_type": "execute_result",
          "data": {
            "text/plain": [
              "'1.23.5'"
            ],
            "application/vnd.google.colaboratory.intrinsic+json": {
              "type": "string"
            }
          },
          "metadata": {},
          "execution_count": 2
        }
      ],
      "source": [
        "import numpy as np\n",
        "np.__version__"
      ]
    },
    {
      "cell_type": "code",
      "execution_count": 3,
      "metadata": {
        "colab": {
          "base_uri": "https://localhost:8080/",
          "height": 36
        },
        "id": "1jzbt9I6aVpp",
        "outputId": "1b001573-ed3e-41ae-f162-a27911cc0b6b"
      },
      "outputs": [
        {
          "output_type": "execute_result",
          "data": {
            "text/plain": [
              "'3.7.1'"
            ],
            "application/vnd.google.colaboratory.intrinsic+json": {
              "type": "string"
            }
          },
          "metadata": {},
          "execution_count": 3
        }
      ],
      "source": [
        "import matplotlib as plt\n",
        "plt.__version__"
      ]
    },
    {
      "cell_type": "markdown",
      "metadata": {
        "id": "ioo_CTCMaVpp"
      },
      "source": [
        "---"
      ]
    },
    {
      "cell_type": "markdown",
      "metadata": {
        "id": "YdPq6HYlaVpp"
      },
      "source": [
        "### 1.데이터 다운로드하기"
      ]
    },
    {
      "cell_type": "markdown",
      "metadata": {
        "id": "PZUqVoQvaVpp"
      },
      "source": [
        "- 기상청 사이트에서 날씨 데이터를 다운로드한다.\n",
        "- 사이트에 가입하고 로그인해야 다운로드할 수 있다.\n",
        "- https://data.kma.go.kr/data/grnd/selectAsosRltmList.do?pgmNo=36\n",
        "- csv파일 다운로드해서 사용\n",
        "- OBS_ASOS_MNH_~.csv 파일 이름을 'weather_data.csv'로 변경해서 사용하기\n"
      ]
    },
    {
      "cell_type": "markdown",
      "metadata": {
        "id": "Nh-6uX-eaVpq"
      },
      "source": [
        "---------"
      ]
    },
    {
      "cell_type": "markdown",
      "metadata": {
        "id": "kYxZ4ufUaVpq"
      },
      "source": [
        "### 2. 데이터 불러오기 : 파이썬으로 데이터 읽어서 표로 나타내기"
      ]
    },
    {
      "cell_type": "code",
      "execution_count": null,
      "metadata": {
        "id": "8wpR_9dmaVpq"
      },
      "outputs": [],
      "source": [
        "import pandas as pd\n",
        "\n",
        "# OBS_ASOS_MNH_~.csv 파일명 데이터를 'weather_data.csv'로 변경하기\n",
        "file = 'data/weather_data.csv'\n",
        "df = pd.read_csv(file, encoding='CP949')\n",
        "\n",
        "print(type(df))\n",
        "df.head(2)"
      ]
    },
    {
      "cell_type": "markdown",
      "metadata": {
        "id": "C8kzg-JoaVpq"
      },
      "source": [
        "---"
      ]
    },
    {
      "cell_type": "markdown",
      "metadata": {
        "id": "AfhfWHFnaVpq"
      },
      "source": [
        "### 2.데이터 전처리(가공하기)\n",
        "- 함수 참고:  https://pandas.pydata.org/docs/reference/index.html"
      ]
    },
    {
      "cell_type": "markdown",
      "metadata": {
        "id": "riXS5TztaVpq"
      },
      "source": [
        "#### # 데이터 요약"
      ]
    },
    {
      "cell_type": "code",
      "execution_count": null,
      "metadata": {
        "scrolled": false,
        "id": "hxcRGIBmaVpq"
      },
      "outputs": [],
      "source": [
        "# 데이터 요약 정보\n",
        "df.info()"
      ]
    },
    {
      "cell_type": "markdown",
      "metadata": {
        "id": "ICrjui_HaVpq"
      },
      "source": [
        "#### # 기술통계 정보"
      ]
    },
    {
      "cell_type": "code",
      "execution_count": null,
      "metadata": {
        "scrolled": false,
        "id": "UyA-Oi6PaVpr"
      },
      "outputs": [],
      "source": [
        "df.describe()"
      ]
    },
    {
      "cell_type": "markdown",
      "metadata": {
        "id": "zWiPfucQaVpr"
      },
      "source": [
        "#### # 결측데이터 시각화\n",
        "missingno패키지는 pandas 데이터프레임 데이터에서 누락된 데이터를 찾고 시각화하는 기능 제공"
      ]
    },
    {
      "cell_type": "code",
      "execution_count": null,
      "metadata": {
        "id": "iygucBpIaVpr"
      },
      "outputs": [],
      "source": [
        "!pip install missingno"
      ]
    },
    {
      "cell_type": "markdown",
      "metadata": {
        "id": "IStXYcyiaVpr"
      },
      "source": [
        "- **행에 결측 데이터 시각화**"
      ]
    },
    {
      "cell_type": "code",
      "execution_count": null,
      "metadata": {
        "id": "97P-7bB0aVpv"
      },
      "outputs": [],
      "source": [
        "import missingno as msno\n",
        "import matplotlib.pyplot as plt\n",
        "# plt.rc('font', family='Malgun Gothic') # 윈도우용 폰트-코랩용은 해당폰트 지정\n",
        "\n",
        "msno.matrix(df)\n",
        "plt.show()"
      ]
    },
    {
      "cell_type": "markdown",
      "metadata": {
        "id": "b0xWcqFjaVpv"
      },
      "source": [
        "- **열에 결측 데이터 시각화**"
      ]
    },
    {
      "cell_type": "code",
      "execution_count": null,
      "metadata": {
        "id": "kOlT7jUTaVpw"
      },
      "outputs": [],
      "source": [
        "msno.bar(df)\n",
        "plt.show()"
      ]
    },
    {
      "cell_type": "markdown",
      "metadata": {
        "id": "z7H57JysaVpw"
      },
      "source": [
        "---"
      ]
    },
    {
      "cell_type": "markdown",
      "metadata": {
        "id": "qvdlUcoAaVpw"
      },
      "source": [
        "#### 2. 컬럼명 변경하기"
      ]
    },
    {
      "cell_type": "code",
      "execution_count": null,
      "metadata": {
        "scrolled": true,
        "id": "NZmgVReJaVpw"
      },
      "outputs": [],
      "source": [
        "df.columns\n",
        "df.columns = ['지점', '지점명', '일시', '평균기온', '최고기온', '최저기온', '평균현지기압',\n",
        "       '평균상대습도', '월합강수량', '평균풍속','일조시간', '최심적설']\n",
        "df.head(3)"
      ]
    },
    {
      "cell_type": "markdown",
      "metadata": {
        "id": "WwMwPeVRaVpw"
      },
      "source": [
        "#### 3. 컬럼 추가하기\n",
        "DataFrame.insert(추가하고싶은위치,컬럼명,값, allow_duplicate=False)"
      ]
    },
    {
      "cell_type": "code",
      "execution_count": null,
      "metadata": {
        "scrolled": true,
        "id": "GYs_MpMdaVpw"
      },
      "outputs": [],
      "source": [
        "df.insert(3,'신규2',df['지점'])\n",
        "df"
      ]
    },
    {
      "cell_type": "code",
      "execution_count": null,
      "metadata": {
        "id": "VC0tI9evaVpw"
      },
      "outputs": [],
      "source": [
        "df.insert(3,'검색일자',df['일시'])\n",
        "df"
      ]
    },
    {
      "cell_type": "code",
      "execution_count": null,
      "metadata": {
        "id": "XFJy8vjHaVpw"
      },
      "outputs": [],
      "source": [
        "df"
      ]
    },
    {
      "cell_type": "code",
      "execution_count": null,
      "metadata": {
        "id": "cDSIQA-LaVpw"
      },
      "outputs": [],
      "source": [
        "df.head(3)"
      ]
    },
    {
      "cell_type": "markdown",
      "metadata": {
        "id": "TBhFs5hLaVpx"
      },
      "source": [
        "- **문자열에서 특정 문자 제거**: '검색일자' 값중에 '년도-월-일' 형태로 되어 있는 구조에서  '-'기호를 제거"
      ]
    },
    {
      "cell_type": "code",
      "execution_count": null,
      "metadata": {
        "scrolled": true,
        "id": "zU4mOYiKaVpx"
      },
      "outputs": [],
      "source": [
        "df['검색일자']= df['검색일자'].str.replace(pat=r'-',repl=r'',regex=True)\n",
        "df.head(2)"
      ]
    },
    {
      "cell_type": "code",
      "execution_count": null,
      "metadata": {
        "id": "b6-BHGsZaVpx"
      },
      "outputs": [],
      "source": [
        "df.info()"
      ]
    },
    {
      "cell_type": "markdown",
      "metadata": {
        "id": "_AAyQPt8aVpy"
      },
      "source": [
        "- **데이터형 변환하기**: str(object)-->int64 형으로 변환하기"
      ]
    },
    {
      "cell_type": "code",
      "execution_count": null,
      "metadata": {
        "id": "-O4f6S2QaVpy"
      },
      "outputs": [],
      "source": [
        "df['검색일자'] = df['검색일자'].apply('int64')\n",
        "df.dtypes"
      ]
    },
    {
      "cell_type": "markdown",
      "metadata": {
        "id": "NICffnioaVpy"
      },
      "source": [
        "- **데이터형 변환하기**: int64 --> str(object)형으로 변환하기"
      ]
    },
    {
      "cell_type": "code",
      "execution_count": null,
      "metadata": {
        "id": "hLx2pWe_aVpy"
      },
      "outputs": [],
      "source": [
        "df['검색일자'] = df['검색일자'].apply(str)\n",
        "df.dtypes"
      ]
    },
    {
      "cell_type": "code",
      "execution_count": null,
      "metadata": {
        "scrolled": true,
        "id": "ecp4ydCDaVpy"
      },
      "outputs": [],
      "source": [
        "# 년월 추가\n",
        "df.insert(3,'년도',df['일시'].str[0:4])\n",
        "df"
      ]
    },
    {
      "cell_type": "markdown",
      "metadata": {
        "id": "KtnVcWvlaVpy"
      },
      "source": [
        "#### 4. 컬럼 삭제"
      ]
    },
    {
      "cell_type": "code",
      "execution_count": null,
      "metadata": {
        "id": "phuTM-DcaVpy"
      },
      "outputs": [],
      "source": [
        "# df.drop(['신규','신규2'], axis=1, inplace=True)\n",
        "df.drop('신규2', axis=1, inplace=True)\n",
        "df.drop('검색일자', axis=1, inplace=True)\n",
        "df.head(3)"
      ]
    },
    {
      "cell_type": "markdown",
      "metadata": {
        "id": "U-4jT9MIaVpy"
      },
      "source": [
        "#### 5. 특정 조건 검색"
      ]
    },
    {
      "cell_type": "code",
      "execution_count": null,
      "metadata": {
        "id": "lLXgJ5r5aVpy"
      },
      "outputs": [],
      "source": [
        "print( '#지점명 개수: ', len( set(df['지점명']) ) )\n",
        "print( '#지점명: ', set( df['지점명'] ) )"
      ]
    },
    {
      "cell_type": "code",
      "execution_count": null,
      "metadata": {
        "id": "IlBzNNsMaVpy"
      },
      "outputs": [],
      "source": [
        "# 특정년도 데이터\n",
        "df_2023 = df.query(\" 년도 == '2023' \")\n",
        "# df_2023 = df[ df['년도']=='2023' ]"
      ]
    },
    {
      "cell_type": "code",
      "execution_count": null,
      "metadata": {
        "id": "2MKJu6aeaVpz"
      },
      "outputs": [],
      "source": [
        "print( '#지점명 개수: ', len( set(df_2023['지점명']) ) )\n",
        "print( '#지점명: ', set( df_2023['지점명'] ) )"
      ]
    },
    {
      "cell_type": "code",
      "execution_count": null,
      "metadata": {
        "scrolled": true,
        "id": "ejaanP6ZaVpz"
      },
      "outputs": [],
      "source": [
        "# 년도=='2023'이면서 전라북도 관측소 데이터만 추출하기\n",
        "df.query(\"년도 == '2023' and 지점명 in ('고창','고창군','전주','정읍','장수') \")\n",
        "df_2023.query(\" 지점명 in ('고창','고창군','전주','정읍','장수')\")"
      ]
    },
    {
      "cell_type": "markdown",
      "metadata": {
        "id": "eviv7TKBaVpz"
      },
      "source": [
        "- **특정 컬럼명 검색** : 지점명=='제주' 데이터"
      ]
    },
    {
      "cell_type": "code",
      "execution_count": null,
      "metadata": {
        "id": "mdh7xZZmaVpz"
      },
      "outputs": [],
      "source": [
        "df[df.지점명 == '제주' ]\n",
        "\n",
        "# df.query(\" 지점명 == '제주' \")\n",
        "\n",
        "# df.iloc[ df.index[ df['지점명'] == '제주' ] ]"
      ]
    },
    {
      "cell_type": "markdown",
      "metadata": {
        "id": "skDcbdUFaVpz"
      },
      "source": [
        "- **또는(|) , 포함(in)** 조건 사용: 강릉 또는 속초 데이터 추출"
      ]
    },
    {
      "cell_type": "code",
      "execution_count": null,
      "metadata": {
        "scrolled": false,
        "id": "n4zdCHlwaVpz"
      },
      "outputs": [],
      "source": [
        "# 또는(|) 사용\n",
        "df.query(\" 지점명=='제주' | 지점명=='서귀포' \")\n",
        "df.head()\n",
        "\n",
        "# df.query(\" 지점명=='제주' | 지점명=='서귀포' \").head()\n",
        "\n",
        "# df.query(\" 지점명 in ('제주','서귀포') \").head(2)"
      ]
    },
    {
      "cell_type": "markdown",
      "metadata": {
        "id": "bq6JdbAQaVpz"
      },
      "source": [
        "- **그리고(&)** 조건 사용"
      ]
    },
    {
      "cell_type": "code",
      "execution_count": null,
      "metadata": {
        "id": "8ylHUAX3aVpz"
      },
      "outputs": [],
      "source": [
        "df[ (df.지점명 == '제주' ) & (df.최고기온 >10) ]\n",
        "\n",
        "# df.query(\" 지점명=='제주' & 최저기온 <= 0 \")"
      ]
    },
    {
      "cell_type": "markdown",
      "metadata": {
        "id": "qpSzjieqaVpz"
      },
      "source": [
        "### [실습문제] 관측 지점이 제주도인 데이터 검색"
      ]
    },
    {
      "cell_type": "code",
      "execution_count": null,
      "metadata": {
        "id": "b4DaZtQjaVpz"
      },
      "outputs": [],
      "source": [
        "# 포함(in) 사용\n",
        "df.query(\" 지점명 in ('고산','서귀포','성산','성산포','제주') \")"
      ]
    },
    {
      "cell_type": "markdown",
      "metadata": {
        "id": "X8Sf-CRfaVp0"
      },
      "source": [
        "- **min()** : 최초 측정월, 마지막 측정월"
      ]
    },
    {
      "cell_type": "code",
      "execution_count": null,
      "metadata": {
        "scrolled": true,
        "id": "BHgn5_8taVp0"
      },
      "outputs": [],
      "source": [
        "# 측정월 최소, 최대\n",
        "print ( '최초 측정일시: ', min(df['일시']) )\n",
        "print ( '최초 측정일시: ', df['일시'].min() )\n",
        "print ( '최근 측정일시: ', max(df['일시']) )\n",
        "print ( '최근 측정일시: ', df['일시'].max() )\n",
        "\n",
        "# 측정 최초월('1904-04')의 데이터\n",
        "# df['일시'].min()\n",
        "# df.query(\" 일시 == '1904-04-01'\")\n",
        "\n",
        "df.query(f\" 일시 == '{ df['일시'].min() }' \")\n",
        "df[ df['일시'] == df['일시'].min() ]"
      ]
    },
    {
      "cell_type": "code",
      "execution_count": null,
      "metadata": {
        "id": "k8DbBU8GaVp0"
      },
      "outputs": [],
      "source": [
        "# 전주 최초 측정일\n",
        "df_junjoo = df.query(f\" 지점명 == '전주' \")\n",
        "df_junjoo['일시'].min()"
      ]
    },
    {
      "cell_type": "markdown",
      "metadata": {
        "id": "iML5jj_TaVp0"
      },
      "source": [
        "- **max()** : 최근 측정 월 검색"
      ]
    },
    {
      "cell_type": "code",
      "execution_count": null,
      "metadata": {
        "id": "fd8DrtjlaVp0"
      },
      "outputs": [],
      "source": [
        "df.query(f\" 일시 == '{ df['일시'].max() }' \")"
      ]
    },
    {
      "cell_type": "code",
      "execution_count": null,
      "metadata": {
        "id": "pNyENQqPaVp0"
      },
      "outputs": [],
      "source": [
        "df.query(f\" 지점명 == '전주' & 일시 == '{ df['일시'].min() }' \")"
      ]
    },
    {
      "cell_type": "code",
      "execution_count": null,
      "metadata": {
        "id": "DxYAiIKJaVp0"
      },
      "outputs": [],
      "source": [
        "df.query(f\" 지점명 in ('제주','성산','고산','성산포','서귀포') & 일시 == '{ df['일시'].max() }' \")"
      ]
    },
    {
      "cell_type": "markdown",
      "metadata": {
        "id": "BQ6M8CUAaVp0"
      },
      "source": [
        "### [실습]: 가장 더웠던 날짜와 온도는?\n",
        "- 기상관측 데이터에서 가장 더웠던(추웠던) 해와 기온은?"
      ]
    },
    {
      "cell_type": "code",
      "execution_count": null,
      "metadata": {
        "id": "rUgN9UgtaVp0"
      },
      "outputs": [],
      "source": [
        "# 컬럼 추출\n",
        "df['최고기온'].max()\n",
        "df.최고기온.max()\n",
        "\n",
        "\n",
        "# 행 추출\n",
        "df.query(f\" 최고기온 == {  df.최고기온.max()  } \")\n",
        "df[ df.최고기온 == df.최고기온.max() ]"
      ]
    },
    {
      "cell_type": "code",
      "execution_count": null,
      "metadata": {
        "scrolled": true,
        "id": "gJWiXOWRaVp0"
      },
      "outputs": [],
      "source": [
        "# 행 추출 특정 컬럼값(year) 추출\n",
        "print(f'기상관측 데이터를 통해 가장 더웠던 년도는?')\n",
        "print(df.query(f\" 최고기온 == {  df.최고기온.max()  } \").일시.str[0:4] )\n",
        "\n",
        "\n",
        "yymm = df.query(f\" 최고기온 == {  df.최고기온.max()  } \").일시.str[0:7]\n",
        "yymm = df[ df.최고기온 == df.최고기온.max() ].일시.str[0:7]\n",
        "print(f'기상관측 데이터를 통해 가장 더웠던 년-월: {yymm}')\n",
        "\n",
        "\n",
        "# 행 추출 특정 컬럼값(최고기온) 추출\n",
        "df.query(f\" 최고기온 == {  df.최고기온.max()  } \").최고기온\n",
        "df[ df.최고기온 == df.최고기온.max() ].최고기온"
      ]
    },
    {
      "cell_type": "code",
      "execution_count": null,
      "metadata": {
        "id": "RHrRYGgcaVp0"
      },
      "outputs": [],
      "source": [
        "# 전체 최고기온\n",
        "df.query(f\" 최고기온 == {df['최고기온'].max()} \")\n",
        "\n",
        "# 전체 최고기온 일시\n",
        "df.query(f\" 최고기온 == {df['최고기온'].max()} \")['일시'].str[0:4]\n",
        "\n",
        "# 전체 최고기온 지점명\n",
        "df.query(f\" 최고기온 == {df['최고기온'].max()} \")['지점명']\n",
        "\n",
        "# # 측정 지점이 제주인  최고기온\n",
        "df.query(f\" 지점명=='제주' \")['최고기온'].max()\n",
        "\n",
        "\n",
        "# 측정 지점이 제주 전역의   최고기온\n",
        "df.query(f\" 지점명 in ('고산','서귀포','성산','성산포','제주') \")['최고기온'].max()"
      ]
    },
    {
      "cell_type": "markdown",
      "metadata": {
        "id": "g83EEwntaVp1"
      },
      "source": [
        "### [실습]: 가장 추웠던 날짜와 온도는?"
      ]
    },
    {
      "cell_type": "code",
      "execution_count": null,
      "metadata": {
        "scrolled": false,
        "id": "LXcz6PHCaVp1"
      },
      "outputs": [],
      "source": [
        "field = '최저기온'\n",
        "\n",
        "# 전체 최저기온\n",
        "df.query(f\" {field} <= { df[field].min() } \")\n",
        "\n",
        "# 전체 최저기온 일시\n",
        "df.query(f\" {field} <= { df[field].min() } \")['일시'].str[0:4]\n",
        "\n",
        "# 전체 최저기온 지점명\n",
        "df.query(f\" {field} <= { df[field].min() } \")['지점명']\n",
        "\n",
        "# 측정 지점이 제주인 최저기온\n",
        "df.query(f\" 지점명=='제주' \")[field].min()\n",
        "\n",
        "# 측정 지점이 제주 전역의  최고기온\n",
        "df.query(f\" 지점명 in ('고산','서귀포','성산','성산포','제주') \")['최저기온'].min()"
      ]
    },
    {
      "cell_type": "markdown",
      "metadata": {
        "id": "GHlWX83naVp1"
      },
      "source": [
        "###  [실습] : 'OO'에서 가장 더웠던 날짜와 기온?"
      ]
    },
    {
      "cell_type": "code",
      "execution_count": null,
      "metadata": {
        "id": "xQtA1jIbaVp1"
      },
      "outputs": [],
      "source": [
        "\n"
      ]
    },
    {
      "cell_type": "markdown",
      "metadata": {
        "id": "_T1fZQi_aVp1"
      },
      "source": [
        "###  [실습] : 'OO'에서 가장 추웠던 날짜와 기온은?"
      ]
    },
    {
      "cell_type": "code",
      "execution_count": null,
      "metadata": {
        "scrolled": true,
        "id": "sLkiyHNJaVp1"
      },
      "outputs": [],
      "source": [
        "\n"
      ]
    },
    {
      "cell_type": "markdown",
      "metadata": {
        "id": "Ovp_iK02aVp1"
      },
      "source": [
        "--------"
      ]
    },
    {
      "cell_type": "markdown",
      "metadata": {
        "id": "zGmF5Ag8aVp1"
      },
      "source": [
        "### 그룹핑(Grouping)"
      ]
    },
    {
      "cell_type": "markdown",
      "metadata": {
        "id": "kW0wxQY5aVp1"
      },
      "source": [
        "#### #그룹핑: 지점별  "
      ]
    },
    {
      "cell_type": "code",
      "execution_count": null,
      "metadata": {
        "id": "l-2pdp46aVp1"
      },
      "outputs": [],
      "source": [
        "df.groupby(['지점명'], as_index=False).mean()\n",
        "df.groupby('지점명').mean()"
      ]
    },
    {
      "cell_type": "code",
      "execution_count": null,
      "metadata": {
        "scrolled": false,
        "id": "kOKwvh5UaVp2"
      },
      "outputs": [],
      "source": [
        "df.groupby(['지점명'], as_index=False).count()"
      ]
    },
    {
      "cell_type": "markdown",
      "metadata": {
        "id": "7eUCSdNAaVp2"
      },
      "source": [
        "#### #그룹핑(컬럼1개): 지점별  평균기온"
      ]
    },
    {
      "cell_type": "code",
      "execution_count": null,
      "metadata": {
        "id": "_AJ-BzwVaVp2"
      },
      "outputs": [],
      "source": [
        "# 방법1\n",
        "df['평균기온'].groupby(df['지점명']).mean()"
      ]
    },
    {
      "cell_type": "code",
      "execution_count": null,
      "metadata": {
        "id": "8zYg8DqTaVp2"
      },
      "outputs": [],
      "source": [
        "# 방법2\n",
        "df.groupby('지점명')['평균기온'].agg('mean')"
      ]
    },
    {
      "cell_type": "code",
      "execution_count": null,
      "metadata": {
        "id": "aiBzwlnzaVp2"
      },
      "outputs": [],
      "source": [
        "# 방법3\n",
        "df.groupby('지점명')['평균기온'].agg(**{'평균기온':'mean'})"
      ]
    },
    {
      "cell_type": "code",
      "execution_count": null,
      "metadata": {
        "id": "XW2qmajVaVp2"
      },
      "outputs": [],
      "source": [
        "# 방법4\n",
        "df.groupby('지점명').aggregate({'평균기온':'mean'})"
      ]
    },
    {
      "cell_type": "code",
      "execution_count": null,
      "metadata": {
        "id": "50I8e9CSaVp2"
      },
      "outputs": [],
      "source": [
        "df_temp = df.groupby('지점명').aggregate({'평균기온':'mean'})\n",
        "df_temp.plot()"
      ]
    },
    {
      "cell_type": "markdown",
      "metadata": {
        "id": "m5S4NUSsaVp2"
      },
      "source": [
        "#### #그룹핑(컬럼 2개): 지점명+년도별,  평균기온"
      ]
    },
    {
      "cell_type": "code",
      "execution_count": null,
      "metadata": {
        "id": "zvm9uuVDaVp2"
      },
      "outputs": [],
      "source": [
        "df.groupby(['지점명','년도'])['평균기온'].agg('mean')\n",
        "df.groupby(['지점명','년도'])['평균기온'].agg(**{'평균':'mean'})\n",
        "df.groupby(['지점명','년도']).aggregate({'평균기온':'mean'})\n",
        "#df.groupby(['지점명','년도'])['평균기온'].agg(**{'평균기온':'mean'}).reset_index()"
      ]
    },
    {
      "cell_type": "code",
      "execution_count": null,
      "metadata": {
        "id": "MY6Q0JGyaVp2"
      },
      "outputs": [],
      "source": [
        "df_temp = df.groupby(['지점명','년도'])['평균기온'].agg('mean')\n",
        "df_temp.plot()"
      ]
    },
    {
      "cell_type": "markdown",
      "metadata": {
        "id": "VdZUSp-taVp2"
      },
      "source": [
        "### [실습문제] : 지점별 최고기온?"
      ]
    },
    {
      "cell_type": "code",
      "execution_count": null,
      "metadata": {
        "id": "W6xUbkAtaVp2"
      },
      "outputs": [],
      "source": [
        "\n"
      ]
    },
    {
      "cell_type": "markdown",
      "metadata": {
        "id": "2hwrmZnmaVp3"
      },
      "source": [
        "- 인텍스를 초기화 하는 방법"
      ]
    },
    {
      "cell_type": "code",
      "execution_count": null,
      "metadata": {
        "id": "e-OlDN6iaVp3"
      },
      "outputs": [],
      "source": [
        "# 인텍스를 초기화 하는 방법\n",
        "df.groupby('지점명')['최고기온'].agg(**{'최고기온':'max'}).reset_index()\n",
        "df.groupby('지점명').aggregate({'최고기온':'max'}).reset_index()"
      ]
    },
    {
      "cell_type": "markdown",
      "metadata": {
        "id": "BVt-BfGiaVp3"
      },
      "source": [
        "### [실습문제] : 지점별 년도별 최다 월합강수량?"
      ]
    },
    {
      "cell_type": "code",
      "execution_count": null,
      "metadata": {
        "scrolled": false,
        "id": "4m66-g0WaVp3"
      },
      "outputs": [],
      "source": [
        "\n"
      ]
    },
    {
      "cell_type": "markdown",
      "metadata": {
        "id": "DwBPJ6lAaVp3"
      },
      "source": [
        "### [실습문제]  OO 지역의 지점별+년도별 최고 최고기온, 최저 최저기온 ,최다 월합강수량, 최다 최심적실은?"
      ]
    },
    {
      "cell_type": "code",
      "execution_count": null,
      "metadata": {
        "id": "1RmePC35aVp3"
      },
      "outputs": [],
      "source": [
        "\n",
        "\n"
      ]
    },
    {
      "cell_type": "markdown",
      "metadata": {
        "id": "dayJWDJAaVp3"
      },
      "source": [
        "#### # DataFrame에서 한 행씩 불러오기\n",
        "!!![주의]!!! 데이터가 많을 경우 실행하지 않도록"
      ]
    },
    {
      "cell_type": "code",
      "execution_count": null,
      "metadata": {
        "id": "O39hIiO7aVp3"
      },
      "outputs": [],
      "source": [
        "# 한 행씩 불러오기  ---->\n",
        "# for i, row in df_t.iterrows():\n",
        "#     print(i, row)\n",
        "#     print(i, row['지점명'], row['최고기온'])"
      ]
    },
    {
      "cell_type": "markdown",
      "metadata": {
        "id": "NwddoaglaVp3"
      },
      "source": [
        "#### 6.가공된 파일 신규 저장하기"
      ]
    },
    {
      "cell_type": "code",
      "execution_count": null,
      "metadata": {
        "scrolled": true,
        "id": "ccw6uthIaVp3"
      },
      "outputs": [],
      "source": [
        "# 가공된 데이터 신규 파일로 저장하기\n",
        "file = 'data/weather_data2.csv'\n",
        "df.to_csv(file, encoding='cp949', mode='w', index=True)"
      ]
    },
    {
      "cell_type": "markdown",
      "metadata": {
        "id": "8ngI0JGaaVp3"
      },
      "source": [
        "--------------------------"
      ]
    },
    {
      "cell_type": "markdown",
      "metadata": {
        "id": "_5d89srFaVp4"
      },
      "source": [
        "## 3. 데이터 시각화하기"
      ]
    },
    {
      "cell_type": "markdown",
      "metadata": {
        "id": "18lNIXXoaVp4"
      },
      "source": [
        "### [실습] : 지점별 평균기온 그래프"
      ]
    },
    {
      "cell_type": "code",
      "execution_count": null,
      "metadata": {
        "scrolled": true,
        "id": "MCDZGecoaVp4"
      },
      "outputs": [],
      "source": [
        "import pandas as pd\n",
        "import matplotlib.pyplot as plt\n",
        "\n",
        "# 한글,그래프크기\n",
        "plt.rcParams['font.family'] = 'Malgun Gothic'\n",
        "plt.rcParams['figure.figsize'] = (10, 4)\n",
        "plt.rcParams['axes.unicode_minus']\n",
        "\n",
        "# 1.데이터 불러오기\n",
        "\n",
        "\n",
        "\n",
        "\n",
        "# 2.컬럼명 지정\n",
        "df.columns = ['지점', '지점명', '일시', '평균기온', '최고기온', '최저기온',\n",
        "              '평균현지기압','평균상대습도', '월합강수량', '평균풍',\n",
        "              '일조시간','최심적설']\n",
        "df['년도'] = df.일시.str[0:4]\n",
        "df.head(2)\n",
        "\n",
        "\n",
        "# 3.지점별 평균 구하기(지점 30개만 추출)\n",
        "df_mean =\n",
        "\n",
        "plt.plot(df_mean, '^', linestyle='solid', c='red', label='평균기온')\n",
        "plt.xticks(rotation=90)\n",
        "plt.title('종관관측 지점별 평균기온', fontsize=20)\n",
        "plt.xlabel('지점명'); plt.ylabel('평균기온');\n",
        "plt.legend(); plt.grid();\n",
        "plt.show()"
      ]
    },
    {
      "cell_type": "code",
      "execution_count": null,
      "metadata": {
        "id": "2d6QAxjCaVp4"
      },
      "outputs": [],
      "source": [
        "import pandas as pd\n",
        "import matplotlib.pyplot as plt\n",
        "\n",
        "# 한글,그래프크기\n",
        "plt.rcParams['font.family'] = 'Malgun Gothic'\n",
        "plt.rcParams['figure.figsize'] = (10, 4)\n",
        "plt.rcParams['axes.unicode_minus'] = False\n",
        "\n",
        "# 1.데이터 불러오기\n",
        "file = 'data/weather_data.csv'\n",
        "df = pd.read_csv(file, encoding='CP949')\n",
        "\n",
        "# 2.컬럼명 지정\n",
        "df.columns = ['지점', '지점명', '일시', '평균기온', '최고기온', '최저기온',\n",
        "              '평균현지기압','평균상대습도', '월합강수량', '평균풍',\n",
        "              '일조시간','최심적설']\n",
        "df['년도'] = df.일시.str[0:4]\n",
        "df.head(2)\n",
        "\n",
        "# 3.전주지역 데이터만 추출\n",
        "df_junju =  df.query(\" 지점명 == '전주'\")\n",
        "df_junju = df_junju.groupby('년도').aggregate({'평균기온':'mean', '최고기온':'max', '최저기온':'min' })\n",
        "df_junju\n",
        "\n",
        "plt.plot(df_junju)\n",
        "plt.xticks(rotation=45)\n",
        "plt.show()"
      ]
    },
    {
      "cell_type": "markdown",
      "metadata": {
        "id": "23M4jIIZaVp4"
      },
      "source": [
        "### [실습문제] : '제주' 지점의 년도별 평균기온을  선 그래프로 나타내기"
      ]
    },
    {
      "cell_type": "code",
      "execution_count": null,
      "metadata": {
        "id": "pkXM5RbYaVp4"
      },
      "outputs": [],
      "source": [
        "import pandas as pd\n",
        "import matplotlib.pyplot as plt\n",
        "\n",
        "# 한글,그래프크기\n",
        "plt.rcParams['font.family'] = 'Malgun Gothic'\n",
        "plt.rcParams['figure.figsize'] = (10, 4)\n",
        "plt.rcParams['axes.unicode_minus']\n",
        "\n",
        "# 1.데이터 불러오기\n",
        "file = 'data/weather_data2.csv'\n",
        "df = pd.read_csv(file, encoding='CP949')\n",
        "df.drop(['Unnamed: 0'], axis=1, inplace=True)\n",
        "df\n",
        "\n",
        "\n",
        "# 2,지점별 연도별 그룹핑하기\n",
        "df2 = df.query(\" 지점명 == '제주' \")\n",
        "# df2 = df.query(\" 지점명 in ('고산','서귀포','성산','성산포','제주') \")\n",
        "df2 = df2.groupby(['지점명','년도']).aggregate({'평균기온':'mean'}).reset_index()\n",
        "\n",
        "X = df2.년도\n",
        "Y = df2.평균기온\n",
        "\n",
        "# 3.지점별 평균 구하기(지점 30개만 추출)\n",
        "plt.plot(X, Y, '^', linestyle='solid', c='r', label='평균기온')\n",
        "plt.title('제주 지점별 평균기온', fontsize=20)\n",
        "plt.xlabel('년도')\n",
        "plt.ylabel('평균기온')\n",
        "plt.xticks(rotation=90)\n",
        "plt.legend()\n",
        "plt.grid()\n",
        "plt.show()"
      ]
    },
    {
      "cell_type": "markdown",
      "metadata": {
        "id": "6L08hUo_aVp4"
      },
      "source": [
        "### [실습]: 제주의 평균기온, 최고기온, 최저기온 통계를 그래프로 나타내기"
      ]
    },
    {
      "cell_type": "code",
      "execution_count": null,
      "metadata": {
        "scrolled": true,
        "id": "pD1GQEnwaVp4"
      },
      "outputs": [],
      "source": [
        "# 2. '제주'지점 년도별 기온 데이터 추출하기(년도 30개만)\n",
        "plt.rcParams['figure.figsize'] = (12, 6)\n",
        "plt.rcParams['axes.unicode_minus'] = False\n",
        "\n",
        "data = df.query(\" 지점명 == '제주' \")\n",
        "data1 = data.groupby('년도').평균기온.agg(**{'평균기온':'mean'})\n",
        "data2 = data.groupby('년도').최고기온.agg(**{'최고기온':'max'})\n",
        "data3 = data.groupby('년도').최저기온.agg(**{'최저기온':'min'})\n",
        "\n",
        "# 3. 그래프로 시각화하기\n",
        "plt.plot(data1, 'o', linestyle='solid', c='r', label='평균기온')\n",
        "plt.plot(data2, '^', linestyle='solid', c='g', label='최고기온')\n",
        "plt.plot(data3, 'v', linestyle='solid', c='b', label='최저기온')\n",
        "plt.title(\"'제주'지점 년도별 기온 통계\", fontsize=15) #제목\n",
        "plt.xlabel('년도')     # x축 레이블\n",
        "plt.ylabel('기온')     # y축 레이블\n",
        "plt.legend()           #범례,기본 위치 : loc='upper left'\n",
        "plt.xticks(rotation=45)  # x축 레이블 기울이기\n",
        "plt.grid()               # 격자 표시\n",
        "\n",
        "plt.show()\n"
      ]
    },
    {
      "cell_type": "code",
      "execution_count": null,
      "metadata": {
        "id": "-xFYN_DJaVp5"
      },
      "outputs": [],
      "source": [
        "# 2. '제주'지점 년도별 기온 데이터 추출하기(년도 30개만)\n",
        "plt.rcParams['axes.unicode_minus'] = False\n",
        "\n",
        "data = df.query(\" 지점명 == '제주' \")\n",
        "data1 = data.groupby('년도')['평균기온'].agg(**{'평균기온':'mean'}).reset_index()\n",
        "data2 = data.groupby('년도')['최고기온'].agg(**{'최고기온':'max'}).reset_index()\n",
        "\n",
        "# 3. 그래프로 시각화하기\n",
        "X = data1['년도']\n",
        "Y1 = data1['평균기온']\n",
        "Y2 = data2['최고기온']\n",
        "plt.bar(X, Y1, label='평균기온')\n",
        "plt.plot(X, Y2, 'o', linestyle='solid', c='r', label='최고기온')\n",
        "plt.title(\"'제주'지점 년도별 기온 통계\", fontsize=15) #제목\n",
        "plt.xlabel('년도')        # x축 레이블\n",
        "plt.ylabel('기온')        # y축 레이블\n",
        "plt.legend()             #범례,기본 위치 : loc='upper left'\n",
        "plt.xticks(rotation=45)  # x축 레이블 기울이기\n",
        "\n",
        "plt.grid()               # 격자 표시\n",
        "\n",
        "plt.show()"
      ]
    },
    {
      "cell_type": "markdown",
      "metadata": {
        "id": "UytJPahVaVp5"
      },
      "source": [
        "### [실습]: 제주의 최고기온(선그래프),평균기온(막대그래프)을 혼합 그래프로 나타내기"
      ]
    },
    {
      "cell_type": "code",
      "execution_count": null,
      "metadata": {
        "scrolled": true,
        "id": "5IG7utYUaVp5"
      },
      "outputs": [],
      "source": [
        "# 3. 그래프로 시각화하기\n",
        "plt.figure(figsize=(20,5))\n",
        "plt.title('제주 기온 통계', fontsize=15)         #제목\n",
        "plt.legend(['최고기온','평균기온']) #범례,기본 위치 : loc='upper left'\n",
        "plt.xlabel('년도')                 # x축 레이블\n",
        "plt.ylabel('기온')                 # y축 레이블\n",
        "plt.xticks(rotation=45)           # x축 레이블 기울이기\n",
        "plt.grid()                        # 격자 표시\n",
        "\n",
        "plt.bar(X, Y1)  # 막대 그래프\n",
        "plt.plot(X, Y2, 'o', linestyle='solid', c='r')  # 선그래프\n",
        "plt.show()\n"
      ]
    },
    {
      "cell_type": "markdown",
      "metadata": {
        "id": "xCTgWUgxaVp5"
      },
      "source": [
        "### [실습] : 2중 축 그래프 그리기 :  평균상대습도 & 월합강수량"
      ]
    },
    {
      "cell_type": "code",
      "execution_count": null,
      "metadata": {
        "scrolled": true,
        "id": "hrS0D8NKaVp5"
      },
      "outputs": [],
      "source": [
        "# 2.'제주'지점의 평균상대습도 & 일최다강수량 센터수\n",
        "data = df.groupby(['지점명','년도'])['평균상대습도'].agg(**{'평균상대습도':'mean'}).reset_index()\n",
        "data = data.query(\" 지점명 == '제주' \")\n",
        "X  = data['년도']\n",
        "Y1 = data['평균상대습도']\n",
        "\n",
        "data = df.groupby(['지점명','년도'])['월합강수량'].agg(**{'월합강수량':'mean'}).reset_index()\n",
        "data = data.query(\" 지점명 == '제주' \")\n",
        "Y2 = data['월합강수량']\n",
        "# print(Y2)\n",
        "\n",
        "\n",
        "# 3. 그래프로 시각화하기\n",
        "plt.rcParams['figure.figsize'] = (10, 5)   # 그래프 크기\n",
        "\n",
        "fig, ax1 = plt.subplots()\n",
        "plt.suptitle('평균상대습도 & 월합강수량',fontsize=15)\n",
        "ax1.plot(X, Y1, color='green')     # 평균상대습도 (왼쪽)\n",
        "ax1.set_ylabel('평균상대습도', color = 'green', rotation = 90)\n",
        "ax2 = ax1.twinx()\n",
        "ax2.plot(X, Y2, color='deeppink')  # 월합강수량 (오른쪽)\n",
        "ax2.set_ylabel('월합강수량', color = 'deeppink', rotation = 270)\n",
        "\n",
        "fig.autofmt_xdate(rotation=45)  #X축 레이블 기울이기\n",
        "\n",
        "plt.savefig('image/graph.png')\n",
        "\n",
        "plt.show()"
      ]
    },
    {
      "cell_type": "markdown",
      "metadata": {
        "id": "fqn2I3scaVp5"
      },
      "source": [
        "-------"
      ]
    },
    {
      "cell_type": "markdown",
      "metadata": {
        "id": "4QRW6QwNaVp5"
      },
      "source": [
        "---------"
      ]
    },
    {
      "cell_type": "markdown",
      "metadata": {
        "id": "EFft1_YJaVp5"
      },
      "source": [
        "끝!"
      ]
    }
  ],
  "metadata": {
    "kernelspec": {
      "display_name": "Python 3 (ipykernel)",
      "language": "python",
      "name": "python3"
    },
    "language_info": {
      "codemirror_mode": {
        "name": "ipython",
        "version": 3
      },
      "file_extension": ".py",
      "mimetype": "text/x-python",
      "name": "python",
      "nbconvert_exporter": "python",
      "pygments_lexer": "ipython3",
      "version": "3.10.9"
    },
    "colab": {
      "provenance": [],
      "include_colab_link": true
    }
  },
  "nbformat": 4,
  "nbformat_minor": 0
}