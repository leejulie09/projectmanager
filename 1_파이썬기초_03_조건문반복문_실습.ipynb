{
  "cells": [
    {
      "cell_type": "markdown",
      "metadata": {
        "id": "view-in-github",
        "colab_type": "text"
      },
      "source": [
        "<a href=\"https://colab.research.google.com/github/leejulie09/projectmanager/blob/main/1_%E1%84%91%E1%85%A1%E1%84%8B%E1%85%B5%E1%84%8A%E1%85%A5%E1%86%AB%E1%84%80%E1%85%B5%E1%84%8E%E1%85%A9_03_%E1%84%8C%E1%85%A9%E1%84%80%E1%85%A5%E1%86%AB%E1%84%86%E1%85%AE%E1%86%AB%E1%84%87%E1%85%A1%E1%86%AB%E1%84%87%E1%85%A9%E1%86%A8%E1%84%86%E1%85%AE%E1%86%AB_%EC%8B%A4%EC%8A%B5.ipynb\" target=\"_parent\"><img src=\"https://colab.research.google.com/assets/colab-badge.svg\" alt=\"Open In Colab\"/></a>"
      ]
    },
    {
      "cell_type": "markdown",
      "id": "25f81d8c",
      "metadata": {
        "id": "25f81d8c"
      },
      "source": [
        "# 파이썬 기초 다지기"
      ]
    },
    {
      "cell_type": "markdown",
      "id": "3f3da3bd",
      "metadata": {
        "id": "3f3da3bd"
      },
      "source": [
        "## 3- 조건문과 반복문\n",
        "데이터와 처리의 흐름을 제어하는 조건문과 반목문"
      ]
    },
    {
      "cell_type": "markdown",
      "id": "0c52a67e",
      "metadata": {
        "id": "0c52a67e"
      },
      "source": [
        "----------------------------------"
      ]
    },
    {
      "cell_type": "markdown",
      "id": "aee8f2e8",
      "metadata": {
        "id": "aee8f2e8"
      },
      "source": [
        "## 3-1.if 조건문"
      ]
    },
    {
      "cell_type": "markdown",
      "id": "e89f3546",
      "metadata": {
        "id": "e89f3546"
      },
      "source": [
        "### 조건문: if"
      ]
    },
    {
      "cell_type": "code",
      "execution_count": 2,
      "id": "4f161d86",
      "metadata": {
        "colab": {
          "base_uri": "https://localhost:8080/"
        },
        "id": "4f161d86",
        "outputId": "0b2127e3-8469-427b-b4c6-6c5a554ce63e"
      },
      "outputs": [
        {
          "output_type": "stream",
          "name": "stdout",
          "text": [
            "숫자를 입력하세요: 200\n",
            "200는 100보다 크군요\n"
          ]
        }
      ],
      "source": [
        "a = int(input('숫자를 입력하세요: '))\n",
        "if a > 100:\n",
        "  print(f\"{a}는 100보다 크군요\")\n"
      ]
    },
    {
      "cell_type": "markdown",
      "id": "cb89ea65",
      "metadata": {
        "id": "cb89ea65"
      },
      "source": [
        "### 조건문: if ~ else"
      ]
    },
    {
      "cell_type": "code",
      "execution_count": 3,
      "id": "6eca2413",
      "metadata": {
        "colab": {
          "base_uri": "https://localhost:8080/"
        },
        "id": "6eca2413",
        "outputId": "2acdd54d-bcc8-42bd-f412-5ce8cc38174a"
      },
      "outputs": [
        {
          "output_type": "stream",
          "name": "stdout",
          "text": [
            "숫자를 입력하세요: 100\n",
            "100는 100보다 크지 않군요\n"
          ]
        }
      ],
      "source": [
        "a = int(input('숫자를 입력하세요: '))\n",
        "if a > 100:\n",
        "  print(f\"{a}는 100보다 크군요\")\n",
        "else:\n",
        "  print(f\"{a}는 100보다 크지 않거나 같군요\")\n"
      ]
    },
    {
      "cell_type": "markdown",
      "id": "13b404bd",
      "metadata": {
        "id": "13b404bd"
      },
      "source": [
        "### 조건문 : 중첩if"
      ]
    },
    {
      "cell_type": "code",
      "execution_count": 6,
      "id": "9575f530",
      "metadata": {
        "colab": {
          "base_uri": "https://localhost:8080/"
        },
        "id": "9575f530",
        "outputId": "34dd968b-dba8-4d1c-f0f6-566c9f2928ce"
      },
      "outputs": [
        {
          "output_type": "stream",
          "name": "stdout",
          "text": [
            "숫자를 입력하세요: 100\n",
            "100는 100과 같군요\n"
          ]
        }
      ],
      "source": [
        "a = int(input('숫자를 입력하세요: '))\n",
        "if a > 100:\n",
        "  print(f\"{a}는 100보다 크군요\")\n",
        "  if a > 200:\n",
        "    print(f\"{a}는 200보다 크군요\")\n",
        "  else:\n",
        "    print(f\"{a}는 200보다 크지 않거나 같군요\")\n",
        "else:\n",
        "  if a == 100:\n",
        "    print(f\"{a}는 100과 같군요\")\n",
        "  else:\n",
        "    print(f\"{a}는 100보다 작군요\")\n"
      ]
    },
    {
      "cell_type": "markdown",
      "source": [
        "###조건문: if~ elif~ else\n"
      ],
      "metadata": {
        "id": "_cHHyLynjFBu"
      },
      "id": "_cHHyLynjFBu"
    },
    {
      "cell_type": "code",
      "source": [
        "a = int(input('숫자를 입력하세요: '))\n",
        "if a > 200:\n",
        "  print(f\"{a}는 200보다 크군요\")\n",
        "elif a > 100:\n",
        "  print(f\"{a}는 100보다 크고 200보다 작거나 같군요\")\n",
        "elif a == 100:\n",
        "  print(f\"{a}는 100과 같군요\")\n",
        "else:\n",
        "  print(f\"{a}는 100보다 작군요\")"
      ],
      "metadata": {
        "id": "rG5LV8nujK15"
      },
      "id": "rG5LV8nujK15",
      "execution_count": null,
      "outputs": []
    },
    {
      "cell_type": "markdown",
      "id": "349dec8b",
      "metadata": {
        "id": "349dec8b"
      },
      "source": [
        "### [실습문제] 짝수/홀수 판별하기"
      ]
    },
    {
      "cell_type": "code",
      "execution_count": 10,
      "id": "de48c13d",
      "metadata": {
        "colab": {
          "base_uri": "https://localhost:8080/"
        },
        "id": "de48c13d",
        "outputId": "ce1c2d43-91c2-43ee-9b42-c9e8901da5d8"
      },
      "outputs": [
        {
          "output_type": "stream",
          "name": "stdout",
          "text": [
            "숫자를 입력해주세요: 3\n",
            "홀수입니다\n"
          ]
        }
      ],
      "source": [
        "\n",
        "x = int(input('숫자를 입력해주세요: '))\n",
        "if x % 2 == 0:\n",
        "  print(\"짝수입니다\")\n",
        "else:\n",
        "  print(\"홀수입니다\")\n"
      ]
    },
    {
      "cell_type": "markdown",
      "source": [
        "###맴버십 연산자 사용해서 조건문 판별하기 (for in, for not in)"
      ],
      "metadata": {
        "id": "RJljq81lmi6Q"
      },
      "id": "RJljq81lmi6Q"
    },
    {
      "cell_type": "code",
      "source": [
        "a = [1,2,3,4,5]\n",
        "x = 7\n",
        "if x in a:\n",
        "  print('x는 a리스트에 포함되어 있습니다')\n",
        "else:\n",
        "  print('포함되어 있지 않습니다')\n"
      ],
      "metadata": {
        "colab": {
          "base_uri": "https://localhost:8080/"
        },
        "id": "2iCEWjxJlvW0",
        "outputId": "2434319e-113b-4fdd-fc75-e3a24f3b443e"
      },
      "id": "2iCEWjxJlvW0",
      "execution_count": 12,
      "outputs": [
        {
          "output_type": "stream",
          "name": "stdout",
          "text": [
            "포함되어 있지 않습니다\n"
          ]
        }
      ]
    },
    {
      "cell_type": "markdown",
      "id": "30919e6b",
      "metadata": {
        "id": "30919e6b"
      },
      "source": [
        "### [실습문제]\n",
        "피타고라스 정리에 의해 직각삼각형의 세 변의 길이에 대한 관계는 아래와 같습니다. 이 정리를 이용하여 세 변의 길이를 입력 받은 삼각형이 직각삼각형인지 아닌지 판별하는 프로그램을 만들어 보세요.\n"
      ]
    },
    {
      "cell_type": "code",
      "execution_count": 15,
      "id": "f6e6ca29",
      "metadata": {
        "scrolled": false,
        "colab": {
          "base_uri": "https://localhost:8080/"
        },
        "id": "f6e6ca29",
        "outputId": "09984195-7015-48c4-cbfa-85d8297e0f0e"
      },
      "outputs": [
        {
          "output_type": "stream",
          "name": "stdout",
          "text": [
            "변 a의 길이: 7\n",
            "변 b의 길이: 4\n",
            "변 c의 길이: 8\n",
            "------------------------------\n",
            "직각삼각형이 아닙니다.\n"
          ]
        }
      ],
      "source": [
        "# 1. 세 변의 길이 입력 받기\n",
        "a = int(input('변 a의 길이: '))\n",
        "b = int(input('변 b의 길이: '))\n",
        "c = int(input('변 c의 길이: '))\n",
        "\n",
        "print('-' * 30)  # 분리 선\n",
        "\n",
        "# 2. 직각삼각형 판별하기\n",
        "if a ** 2 + b ** 2 == c ** 2:\n",
        "  print(\"직각삼각형 입니다\")\n",
        "else:\n",
        "  print(\"직각삼각형이 아닙니다\")\n",
        "\n",
        "\n",
        "#가장 큰걸 찾고 판별\n",
        "maxValue = max(a, b, c)\n",
        "if maxValue == a:\n",
        "    is_right_triangle = b ** 2 + c ** 2 == a ** 2\n",
        "elif maxValue == b:\n",
        "    is_right_triangle = a ** 2 + c ** 2 == b ** 2\n",
        "else:\n",
        "    is_right_triangle = a ** 2 + b ** 2 == c ** 2\n",
        "\n",
        "if is_right_triangle:\n",
        "    print(\"직각삼각형입니다.\")\n",
        "else:\n",
        "    print(\"직각삼각형이 아닙니다.\")\n"
      ]
    },
    {
      "cell_type": "code",
      "source": [
        "# 90점 이상\n",
        "# 80점 이상\n",
        "# 70점 이상\n",
        "# 나머지\n",
        "\n",
        "# grade = 'A'\n",
        "# grade = 'B'\n",
        "# grade = 'C'\n",
        "# grade = 'D'\n",
        "\n",
        "score = int(input('성적을 입력해주세요: '))\n",
        "\n",
        "if score >= 90:\n",
        "  grade = \"A\"\n",
        "  print(f\"성적: {score}는 {grade}등급 입니다\")\n",
        "if 90 > score >= 80:\n",
        "  grade = \"B\"\n",
        "  print(f\"성적: {score}는 {grade}등급 입니다\")\n",
        "if 80 > score >= 70:\n",
        "  grade = \"C\"\n",
        "  print(f\"성적: {score}는 {grade}등급 입니다\")\n",
        "if 70 > score >= 0:\n",
        "  grade = \"D\"\n",
        "  print(f\"성적: {score}는 {grade}등급 입니다\")\n",
        "\n",
        "\n",
        "#정답\n",
        "score = int(input('성적을 입력해주세요: '))\n",
        "\n",
        "if score >= 90:\n",
        "    grade = \"A\"\n",
        "elif score >= 80:\n",
        "    grade = \"B\"\n",
        "elif score >= 70:\n",
        "    grade = \"C\"\n",
        "elif score >= 0:\n",
        "    grade = \"D\"\n",
        "else:\n",
        "    print(\"잘못된 성적입니다.\")\n",
        "    exit()  # 프로그램 종료\n",
        "\n",
        "print(f\"성적: {score}는 {grade}등급 입니다\")\n",
        "\n",
        "#정답\n",
        "score = int(input('성적을 입력해 주세요: '))\n",
        "print('-' * 30)\n",
        "grade = 'D'\n",
        "\n",
        "if score >= 90:\n",
        "    grade = 'A'\n",
        "elif score >= 80:\n",
        "    grade = 'B'\n",
        "elif score >= 70:\n",
        "    grade = 'C'\n",
        "\n",
        "print(f'성적: {score}점은 {grade}등급 입니다.')\n",
        "\n",
        "#if문 아래 1줄만 있으면 같은 줄에 써도 됌"
      ],
      "metadata": {
        "colab": {
          "base_uri": "https://localhost:8080/"
        },
        "id": "YBmWgeb9tg7Z",
        "outputId": "cb83eca4-796e-4346-d546-cba3cc070074"
      },
      "id": "YBmWgeb9tg7Z",
      "execution_count": 21,
      "outputs": [
        {
          "output_type": "stream",
          "name": "stdout",
          "text": [
            "성적을 입력해주세요: 50\n",
            "성적: 50는 D등급 입니다\n"
          ]
        }
      ]
    },
    {
      "cell_type": "code",
      "source": [
        "'''\n",
        "자연계 현상에 대해 input(), if 조건문 print() 를 이용해 조건문을 만들어 자유롭게 표\n",
        "현해 보세요\n",
        "\n",
        "ex) 온도가 30도 이상이면 에어컨을 켜고\n",
        "온도가 15도 미만이면 되면 내복을 입고\n",
        "온도가 10도 이하면 난방기를 켠다.\n",
        "나머지는 쾌적한 온도~\n",
        "'''\n",
        "\n",
        "\n",
        "temp = int(input(\"현재 온도를 넣으세요: \"))\n",
        "\n",
        "if temp >= 30:\n",
        "    print(\"에어컨을 켜세요\")\n",
        "elif temp < 15:\n",
        "    print(\"내복을 입으세요\")\n",
        "elif temp <= 10:\n",
        "    print(\"온돌을 켜세요\")\n",
        "else:\n",
        "    print(\"온도가 쾌적해요\")\n",
        "\n",
        "#정답\n",
        "speaker = '온도가 쾌적해요'\n",
        "\n",
        "if temp >= 30:\n",
        "    speaker = \"에어컨을 켜세요\"\n",
        "elif temp < 15:\n",
        "    speaker = \"내복을 입으세요\"\n",
        "    if temp <= 10:\n",
        "        speaker = \"온돌을 켜세요\"\n",
        "print(f'온도 {temp}일 때{speaker}')"
      ],
      "metadata": {
        "colab": {
          "base_uri": "https://localhost:8080/"
        },
        "id": "NO2jZm-pxmIr",
        "outputId": "4b94fae8-35e9-4359-99c4-d024b1d97b55"
      },
      "id": "NO2jZm-pxmIr",
      "execution_count": 30,
      "outputs": [
        {
          "output_type": "stream",
          "name": "stdout",
          "text": [
            "현재 온도를 넣으세요: 5\n",
            "내복을 입으세요\n"
          ]
        }
      ]
    },
    {
      "cell_type": "markdown",
      "source": [
        "###기술통계 함수"
      ],
      "metadata": {
        "id": "Jd-XLEorr8CV"
      },
      "id": "Jd-XLEorr8CV"
    },
    {
      "cell_type": "code",
      "source": [
        "\n",
        "a = [1,2,3,4,5]\n",
        "print(f'{a}의 개수(길이): {len(a)}' )\n",
        "print(f'{a}의 합계  : {sum(a)}' )\n",
        "print(f'{a}의 최소값: {min(a)}' )\n",
        "print(f'{a}의 최대값: {max(a)}' )\n",
        "print(f'{a}의 평균  : {sum(a)/len(a)}' )"
      ],
      "metadata": {
        "colab": {
          "base_uri": "https://localhost:8080/"
        },
        "id": "B_fx8yiTrntv",
        "outputId": "b475588d-9219-43b3-8e7e-71bf5503644a"
      },
      "id": "B_fx8yiTrntv",
      "execution_count": 16,
      "outputs": [
        {
          "output_type": "stream",
          "name": "stdout",
          "text": [
            "[1, 2, 3, 4, 5]의 개수(길이): 5\n",
            "[1, 2, 3, 4, 5]의 합계  : 15\n",
            "[1, 2, 3, 4, 5]의 최소값: 1\n",
            "[1, 2, 3, 4, 5]의 최대값: 5\n",
            "[1, 2, 3, 4, 5]의 평균  : 3.0\n"
          ]
        }
      ]
    },
    {
      "cell_type": "code",
      "source": [
        "# TTS사용\n",
        "# !pip install gtts\n",
        "\n",
        "from gtts import gTTS\n",
        "from IPython.display import Audio\n",
        "\n",
        "kor_wav = gTTS('안녕 여러분!', lang = 'ko')\n",
        "kor_wav.save('kor.wav')\n",
        "\n",
        "display(Audio('kor.wav', autoplay=True))"
      ],
      "metadata": {
        "colab": {
          "base_uri": "https://localhost:8080/",
          "height": 74
        },
        "id": "RJFDH7WI-H9n",
        "outputId": "69b0f342-327e-4e44-a4c0-18eeb4d9dc3e"
      },
      "id": "RJFDH7WI-H9n",
      "execution_count": 32,
      "outputs": [
        {
          "output_type": "display_data",
          "data": {
            "text/plain": [
              "<IPython.lib.display.Audio object>"
            ],
            "text/html": [
              "\n",
              "                <audio  controls=\"controls\" autoplay=\"autoplay\">\n",
              "                    <source src=\"data:audio/x-wav;base64,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\" type=\"audio/x-wav\" />\n",
              "                    Your browser does not support the audio element.\n",
              "                </audio>\n",
              "              "
            ]
          },
          "metadata": {}
        }
      ]
    },
    {
      "cell_type": "markdown",
      "id": "862598a5",
      "metadata": {
        "id": "862598a5"
      },
      "source": [
        "### [실습문제]\n",
        "아래 조건을 만족하는 커피 주문 머신을 만들어보세요.<br><br>\n",
        "[커피 자동주문 머신]<br>\n",
        "친구들과 현금 커피 자동주문 머신 앞에서\n",
        " - 아메리카노 2잔과 카페라테 2잔 카푸치노 1잔을 주문하였다.\n",
        " - 아메리카노 한잔에 2500원이고\n",
        " - 카페라테는 한잔에 3000원\n",
        " - 카푸치노는 한잔에 3000원이다.\n",
        "커피 종류와 잔 수를 결정한 후 현금 15000원을 투입하고 잔돈을 1000원 받았다."
      ]
    },
    {
      "cell_type": "code",
      "execution_count": 34,
      "id": "0d6035c2",
      "metadata": {
        "colab": {
          "base_uri": "https://localhost:8080/"
        },
        "id": "0d6035c2",
        "outputId": "68b950a5-d02a-4331-8338-6904b779aedc"
      },
      "outputs": [
        {
          "output_type": "stream",
          "name": "stdout",
          "text": [
            "[커피 자동주문 머신 메뉴]\n",
            "------------------------------\n",
            "-아메리카노는 2500원\n",
            "-카레라떼는 3000원\n",
            "-카푸치노는 3000원\n",
            "입니다. 원하시는 커피종류와 잔수를 입력하세요.\n",
            "------------------------------\n",
            "아메리카노 몇잔?4\n",
            "카페라떼 몇잔?5\n",
            "카푸치노 몇잔?3\n",
            "지불할 총 급액은 34000원 입니다\n",
            "돈을 넣어주세요: 60000\n",
            "거스름돈은 26000원 입니다\n"
          ]
        }
      ],
      "source": [
        "menu = '''[커피 자동주문 머신 메뉴]\n",
        "------------------------------\n",
        "-아메리카노는 2500원\n",
        "-카레라떼는 3000원\n",
        "-카푸치노는 3000원\n",
        "입니다. 원하시는 커피종류와 잔수를 입력하세요.\n",
        "------------------------------'''\n",
        "print(menu)\n",
        "coffee1 = int(input(\"아메리카노 몇잔?\"))\n",
        "coffee2 = int(input(\"카페라떼 몇잔?\"))\n",
        "coffee3 = int(input(\"카푸치노 몇잔?\"))\n",
        "\n",
        "americano = 2500\n",
        "cafelatte = 3000\n",
        "cappucino = 3000\n",
        "total = coffee1 * americano + coffee2 * cafelatte + coffee3 * cappucino\n",
        "print(f'지불할 총 급액은 {total}원 입니다')\n",
        "\n",
        "pay = int(input(\"돈을 넣어주세요: \"))\n",
        "\n",
        "if pay >= total:\n",
        "  print(f'거스름돈은 {pay-total}원 입니다')\n",
        "elif pay < total:\n",
        "  print(f'입력한 금액이 부족합니다 {total-pay}원을 넣어주세요')\n",
        "\n",
        "\n",
        "#정답\n",
        "if pay >= total:\n",
        "  print(f'거스름돈은 {pay-total}원 입니다')\n",
        "else:\n",
        "  print(f'입력한 금액이 부족합니다 {abs(pay-total)}원을 넣어주세요')\n",
        "\n",
        "\n",
        "\n",
        "\n",
        "\n",
        "\n",
        "\n"
      ]
    },
    {
      "cell_type": "markdown",
      "source": [
        "##간소화된 조건문 표현식"
      ],
      "metadata": {
        "id": "kLZDvZhRGZzi"
      },
      "id": "kLZDvZhRGZzi"
    },
    {
      "cell_type": "code",
      "source": [
        "score = int(input('점수를 입력하세요: '))\n",
        "if score >= 80:\n",
        "  message = '성공'\n",
        "else:\n",
        "  message = '실패'\n",
        "print(f'{score}점 일 때 {message}')\n",
        "\n",
        "\n"
      ],
      "metadata": {
        "id": "H4ODwcpNGZbL"
      },
      "id": "H4ODwcpNGZbL",
      "execution_count": null,
      "outputs": []
    },
    {
      "cell_type": "code",
      "source": [
        "score = int(input('점수를 입력하세요: '))\n",
        "# message = '성공' if score >= 80 else '실패'\n",
        "print(f\"{score}점 일 때 {'성공' if score >= 80 else '실패'}\")"
      ],
      "metadata": {
        "id": "PGFxYqeRG9XO"
      },
      "id": "PGFxYqeRG9XO",
      "execution_count": null,
      "outputs": []
    },
    {
      "cell_type": "markdown",
      "id": "67412428",
      "metadata": {
        "id": "67412428"
      },
      "source": [
        "## 3-2.반복문"
      ]
    },
    {
      "cell_type": "markdown",
      "id": "44197774",
      "metadata": {
        "id": "44197774"
      },
      "source": [
        "### 반복문: for 반복문"
      ]
    },
    {
      "cell_type": "markdown",
      "source": [
        "#### 1.range() 함수 사용하여 반복하기"
      ],
      "metadata": {
        "id": "Ho4jCsesJkEl"
      },
      "id": "Ho4jCsesJkEl"
    },
    {
      "cell_type": "code",
      "execution_count": 45,
      "id": "9f69ecc4",
      "metadata": {
        "scrolled": true,
        "colab": {
          "base_uri": "https://localhost:8080/"
        },
        "id": "9f69ecc4",
        "outputId": "8df430c4-5c32-4958-aa1c-bfcebddbd960"
      },
      "outputs": [
        {
          "output_type": "stream",
          "name": "stdout",
          "text": [
            "0\n",
            "2\n",
            "4\n",
            "6\n",
            "8\n",
            "1 번째 for반복문입니다.\n",
            "2 번째 for반복문입니다.\n",
            "3 번째 for반복문입니다.\n"
          ]
        }
      ],
      "source": [
        "for i in range(0,10,2):\n",
        "  print(i)\n",
        "\n",
        "for i in range(3):\n",
        "  print(i+1,'번째 for반복문입니다.')"
      ]
    },
    {
      "cell_type": "markdown",
      "source": [
        "####2.문자열 길이를 이용하여 반복하기"
      ],
      "metadata": {
        "id": "LIxOlHTZKBuH"
      },
      "id": "LIxOlHTZKBuH"
    },
    {
      "cell_type": "code",
      "source": [
        "사과 = 'apple'\n",
        "for i in 사과:\n",
        "  print(i)\n",
        "  print('사과입니다')\n",
        "  print('-'*30)"
      ],
      "metadata": {
        "colab": {
          "base_uri": "https://localhost:8080/"
        },
        "id": "RI9J5QWuKELZ",
        "outputId": "0c78b0f8-8004-4d73-e21a-efec81c01c49"
      },
      "id": "RI9J5QWuKELZ",
      "execution_count": 43,
      "outputs": [
        {
          "output_type": "stream",
          "name": "stdout",
          "text": [
            "a\n",
            "사과입니다\n",
            "------------------------------\n",
            "p\n",
            "사과입니다\n",
            "------------------------------\n",
            "p\n",
            "사과입니다\n",
            "------------------------------\n",
            "l\n",
            "사과입니다\n",
            "------------------------------\n",
            "e\n",
            "사과입니다\n",
            "------------------------------\n"
          ]
        }
      ]
    },
    {
      "cell_type": "markdown",
      "source": [
        "####3.리스트를 이용하여 반복하기"
      ],
      "metadata": {
        "id": "1yH4q9CTLZrE"
      },
      "id": "1yH4q9CTLZrE"
    },
    {
      "cell_type": "code",
      "source": [
        "fruits=['grape', 'apple', 'orange','banana','cherry']\n",
        "for fruit in fruits:\n",
        "  # print(f'내가 좋아하는 과일 {fruit}')\n",
        "  print(fruit, end='')"
      ],
      "metadata": {
        "colab": {
          "base_uri": "https://localhost:8080/"
        },
        "id": "qOTTzHBBLcMT",
        "outputId": "84afc386-73d5-4ff2-c95f-dddf6169a465"
      },
      "id": "qOTTzHBBLcMT",
      "execution_count": 47,
      "outputs": [
        {
          "output_type": "stream",
          "name": "stdout",
          "text": [
            "grapeappleorangebananacherry"
          ]
        }
      ]
    },
    {
      "cell_type": "markdown",
      "id": "8288e636",
      "metadata": {
        "id": "8288e636"
      },
      "source": [
        "### [실습문제]\n",
        "키보드로 양의 정수(n)을 입력 받아 1~n까지의 합을 구하는 프로그램을 만들어 보세요."
      ]
    },
    {
      "cell_type": "code",
      "execution_count": 53,
      "id": "d6774150",
      "metadata": {
        "colab": {
          "base_uri": "https://localhost:8080/"
        },
        "id": "d6774150",
        "outputId": "2bcb4043-1115-4f44-ccd1-d1ad1d752fc6"
      },
      "outputs": [
        {
          "output_type": "stream",
          "name": "stdout",
          "text": [
            "숫자를 입력하세요: 5\n",
            "15\n"
          ]
        }
      ],
      "source": [
        "# 1. 숫자 N을 입력하세요.\n",
        "num = int(input('숫자를 입력하세요: '))\n",
        "sum = 0\n",
        "# 2. 1~N까지 합계를 구하세요.\n",
        "for i in range(1, num+1, 1):\n",
        "  sum += i\n",
        "print(sum)\n",
        "\n"
      ]
    },
    {
      "cell_type": "markdown",
      "id": "aae06acb",
      "metadata": {
        "id": "aae06acb"
      },
      "source": [
        "### [실습문제]\n",
        "키보드로 양의 정수(n)을 입력 받아 1~n까지의 합을 구할 때 짝수를 제외하고 합을 구하는 프로그램을 만들어 보세요."
      ]
    },
    {
      "cell_type": "code",
      "execution_count": 54,
      "id": "c87285cf",
      "metadata": {
        "colab": {
          "base_uri": "https://localhost:8080/"
        },
        "id": "c87285cf",
        "outputId": "529e663d-94a9-4afc-872a-95a91d5573b1"
      },
      "outputs": [
        {
          "output_type": "stream",
          "name": "stdout",
          "text": [
            "숫자를 입력하세요: 100\n",
            "2500\n"
          ]
        }
      ],
      "source": [
        "# 1. 숫자 N을 입력하세요.\n",
        "num = int(input('숫자를 입력하세요: '))\n",
        "sum = 0\n",
        "# 2. 1~N까지 합계를 구하세요.\n",
        "\n",
        "#정답1\n",
        "for i in range(1, num+1, 1):\n",
        "  if i % 2 != 0 :\n",
        "    sum += i\n",
        "print(sum)\n",
        "\n",
        "#정답2\n",
        "for i in range(1, num+1, 1):\n",
        "  if i % 2 == 0 : #짝수\n",
        "    continue\n",
        "  else: #홀수\n",
        "    sum += i\n",
        "print(sum)\n",
        "\n",
        "#정답3 : 증감을 2씩 하기\n",
        "for i in range(1, num+1, 2):\n",
        "  sum += i\n",
        "print(sum)"
      ]
    },
    {
      "cell_type": "markdown",
      "id": "ac62e6f7",
      "metadata": {
        "id": "ac62e6f7"
      },
      "source": [
        "### 반복문: while 반복문"
      ]
    },
    {
      "cell_type": "code",
      "execution_count": null,
      "id": "f2fb3ce9",
      "metadata": {
        "id": "f2fb3ce9"
      },
      "outputs": [],
      "source": [
        "num1, num2 = 0, 0\n",
        "#빠져나갈 조건문이 반드시 있어야함\n",
        "\n",
        "while True:\n",
        "    num1 = int(input(\"더할 첫 번째 숫자: \"))\n",
        "    if num1 == 0:\n",
        "        break\n",
        "\n",
        "    num2 = int(input(\"더할 두 번째 숫자: \"))\n",
        "\n",
        "    print(f'{num1} + {num2} = {num1 + num2}')\n",
        "\n",
        "print(\"0을 입력해서 반복문을 탈출했습니다.\")"
      ]
    },
    {
      "cell_type": "markdown",
      "id": "02a797a4",
      "metadata": {
        "id": "02a797a4"
      },
      "source": [
        "### [실습문제] 도둑잡기 게임 만들기\n",
        "경찰에 쫓기던 범인이 3개의 방 중에 한 곳에 숨어버렸습니다. 범인은 방문을 열 때마다 무작위로 3개의 방 중 하나의 방으로 이동합니다. 3개의 방 중 하나의 방을 선택했을 때 범인이 있다면 100점, 없을 때 -10점을 부여하고 범인을 잡으면 게임을 종료하는 프로그램을 만들어 보세요."
      ]
    },
    {
      "cell_type": "code",
      "execution_count": 55,
      "id": "e08b9dc4",
      "metadata": {
        "colab": {
          "base_uri": "https://localhost:8080/"
        },
        "id": "e08b9dc4",
        "outputId": "19aa967e-d186-4d60-d5b0-39fb19998aec"
      },
      "outputs": [
        {
          "output_type": "stream",
          "name": "stdout",
          "text": [
            "도둑이 숨은 방 번호는?(1,2,3번 중): 1\n",
            "찾았다! 도둑이야!\n",
            "--게임 종료--\n",
            "도둑이 있는 방은 1번 방입니다. 점수는 100점입니다\n"
          ]
        }
      ],
      "source": [
        "import random\n",
        "score = 0\n",
        "\n",
        "while True:\n",
        "  room = random.randint(1,3)\n",
        "  n = int(input('도둑이 숨은 방 번호는?(1,2,3번 중): '))\n",
        "  if n == room:\n",
        "    print('찾았다! 도둑이야!')\n",
        "    score += 100\n",
        "    break\n",
        "  else:\n",
        "    print('이 방에는 도둑이 없습니다.')\n",
        "    score -= 10\n",
        "print('--게임 종료--')\n",
        "print(f'도둑이 있는 방은 {room}번 방입니다. 점수는 {score}점입니다')\n"
      ]
    },
    {
      "cell_type": "markdown",
      "id": "0d03701c",
      "metadata": {
        "id": "0d03701c"
      },
      "source": [
        "### [실습문제] 공이 튕긴 횟수 구하기\n",
        "공을 일정 높이에서 떨어뜨리면, 원래 높이의 1/2만큼 튀어 오릅니다. 이를 반복하다가 높이가 0.00001m보다 낮으면 튀어 오르지 않습니다. while문을 이용하여 공이 튀어 오르는 총 횟수를 구하는 프로그램을 만들어 보세요."
      ]
    },
    {
      "cell_type": "code",
      "execution_count": null,
      "id": "1ac5675e",
      "metadata": {
        "scrolled": true,
        "id": "1ac5675e"
      },
      "outputs": [],
      "source": [
        "\n"
      ]
    },
    {
      "cell_type": "markdown",
      "id": "ecdb476f",
      "metadata": {
        "id": "ecdb476f"
      },
      "source": [
        "### [실습문제] 커피 자동주문 프로그램 업그레이드\n",
        "앞에서 만들어 본 커피 자동주문 머신 프로그램을 while문을 이용하여 돈을 모두 지불할 때까지 돈을 입력 받도록 프로그램 기능 수정하기"
      ]
    },
    {
      "cell_type": "code",
      "execution_count": 57,
      "id": "2ce8fbfc",
      "metadata": {
        "scrolled": true,
        "colab": {
          "base_uri": "https://localhost:8080/"
        },
        "id": "2ce8fbfc",
        "outputId": "c0c938d4-83d7-4006-bbb7-57beb79a021e"
      },
      "outputs": [
        {
          "output_type": "stream",
          "name": "stdout",
          "text": [
            "[커피 자동주문 머신 메뉴]\n",
            "------------------------------\n",
            "-아메리카노는 2500원\n",
            "-카레라떼는 3000원\n",
            "-카푸치노는 3000원\n",
            "입니다. 원하시는 커피종류와 잔수를 입력하세요.\n",
            "------------------------------\n",
            "아메리카노 몇잔?3\n",
            "카페라떼 몇잔?5\n",
            "카푸치노 몇잔?7\n",
            "지불할 총 금액은  43500 원 입니다\n",
            "--------------------------------------------------\n",
            "[지불할 금액:43500] : 돈을 넣어주세요: 3000\n",
            "입력한 금액이 부족합니다. 40500 원을 더 넣어주세요.\n",
            "--------------------------------------------------\n",
            "[지불할 금액:40500] : 돈을 넣어주세요: 40000\n",
            "입력한 금액이 부족합니다. 500 원을 더 넣어주세요.\n",
            "--------------------------------------------------\n",
            "[지불할 금액:500] : 돈을 넣어주세요: 500\n",
            "거스름돈은 0원 입니다.\n",
            "--------------------------------------------------\n",
            " 커피 맛있게 드세요.\n"
          ]
        }
      ],
      "source": [
        "menu = '''[커피 자동주문 머신 메뉴]\n",
        "------------------------------\n",
        "-아메리카노는 2500원\n",
        "-카레라떼는 3000원\n",
        "-카푸치노는 3000원\n",
        "입니다. 원하시는 커피종류와 잔수를 입력하세요.\n",
        "------------------------------'''\n",
        "print(menu)\n",
        "coffee1 = int(input(\"아메리카노 몇잔?\"))\n",
        "coffee2 = int(input(\"카페라떼 몇잔?\"))\n",
        "coffee3 = int(input(\"카푸치노 몇잔?\"))\n",
        "total = coffee1*2500 + coffee2*3000 + coffee3*3000\n",
        "print(\"지불할 총 금액은 \", total, \"원 입니다\")\n",
        "\n",
        "while True:\n",
        "    print('-'*50)\n",
        "    money = int(input(f'[지불할 금액:{total}] : 돈을 넣어주세요: '))\n",
        "    if total > money  :\n",
        "        print(f'입력한 금액이 부족합니다. {total - money} 원을 더 넣어주세요.')\n",
        "        total = total - money\n",
        "    else:\n",
        "        print(f'거스름돈은 {money - total}원 입니다.')\n",
        "        break\n",
        "\n",
        "print('-'*50)\n",
        "print(' 커피 맛있게 드세요.')\n",
        "\n",
        "\n",
        "\n",
        "\n"
      ]
    },
    {
      "cell_type": "markdown",
      "id": "af0e48ab",
      "metadata": {
        "id": "af0e48ab"
      },
      "source": [
        "## 3-3.난수(Random Variable)"
      ]
    },
    {
      "cell_type": "markdown",
      "id": "e34c55ca",
      "metadata": {
        "id": "e34c55ca"
      },
      "source": [
        "### [실습문제] 임의의 두 수 합 구하기\n",
        "1부터 10까지의 범위를 갖는 임의의 두 정수 a, b를 더하여 결과 출력하기"
      ]
    },
    {
      "cell_type": "code",
      "execution_count": null,
      "id": "3c007936",
      "metadata": {
        "id": "3c007936"
      },
      "outputs": [],
      "source": []
    },
    {
      "cell_type": "markdown",
      "id": "357e1bdd",
      "metadata": {
        "id": "357e1bdd"
      },
      "source": [
        "### [실습문제]\n",
        "주사위를 100번 던져서 나오는 숫자를 각 숫자별로 카운트하고 가장 많이 나온 숫자와 그 숫자의 횟수를 출력하시오."
      ]
    },
    {
      "cell_type": "code",
      "execution_count": null,
      "id": "782da2b4",
      "metadata": {
        "id": "782da2b4"
      },
      "outputs": [],
      "source": []
    },
    {
      "cell_type": "markdown",
      "id": "45e329e4",
      "metadata": {
        "id": "45e329e4"
      },
      "source": [
        "------------------------"
      ]
    },
    {
      "cell_type": "markdown",
      "id": "66025633",
      "metadata": {
        "id": "66025633"
      },
      "source": [
        "끝"
      ]
    }
  ],
  "metadata": {
    "kernelspec": {
      "display_name": "Python 3 (ipykernel)",
      "language": "python",
      "name": "python3"
    },
    "language_info": {
      "codemirror_mode": {
        "name": "ipython",
        "version": 3
      },
      "file_extension": ".py",
      "mimetype": "text/x-python",
      "name": "python",
      "nbconvert_exporter": "python",
      "pygments_lexer": "ipython3",
      "version": "3.10.9"
    },
    "vscode": {
      "interpreter": {
        "hash": "b41e41bff03a930185ac2cbea60ce521f7c8c2f5401ceb5c30214081f77ab4f5"
      }
    },
    "colab": {
      "provenance": [],
      "include_colab_link": true
    }
  },
  "nbformat": 4,
  "nbformat_minor": 5
}