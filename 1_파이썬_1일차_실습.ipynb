{
  "nbformat": 4,
  "nbformat_minor": 0,
  "metadata": {
    "colab": {
      "provenance": [],
      "authorship_tag": "ABX9TyO23CWgh9VvmTSe1sBVToqX",
      "include_colab_link": true
    },
    "kernelspec": {
      "name": "python3",
      "display_name": "Python 3"
    },
    "language_info": {
      "name": "python"
    }
  },
  "cells": [
    {
      "cell_type": "markdown",
      "metadata": {
        "id": "view-in-github",
        "colab_type": "text"
      },
      "source": [
        "<a href=\"https://colab.research.google.com/github/leejulie09/projectmanager/blob/main/1_%ED%8C%8C%EC%9D%B4%EC%8D%AC_1%EC%9D%BC%EC%B0%A8_%EC%8B%A4%EC%8A%B5.ipynb\" target=\"_parent\"><img src=\"https://colab.research.google.com/assets/colab-badge.svg\" alt=\"Open In Colab\"/></a>"
      ]
    },
    {
      "cell_type": "markdown",
      "source": [
        "# 파이썬 기초 프로그래밍 - 1일차 실습"
      ],
      "metadata": {
        "id": "bqphOD0yeVDw"
      }
    },
    {
      "cell_type": "markdown",
      "source": [
        "## 코랩에서 파이썬 사용\n",
        "### 파이썬 실습 1일차\n",
        "#### 시작\n",
        "\n",
        "\n",
        "\n",
        "---\n",
        "\n"
      ],
      "metadata": {
        "id": "2A0hLto7ekse"
      }
    },
    {
      "cell_type": "markdown",
      "source": [],
      "metadata": {
        "id": "QTuCFjdXgiBQ"
      }
    },
    {
      "cell_type": "code",
      "source": [
        "import sys\n",
        "sys.version"
      ],
      "metadata": {
        "colab": {
          "base_uri": "https://localhost:8080/",
          "height": 36
        },
        "id": "x0LQkjwxe1XE",
        "outputId": "fae05d7e-acc0-45c2-c658-ceee7478d01f"
      },
      "execution_count": 1,
      "outputs": [
        {
          "output_type": "execute_result",
          "data": {
            "text/plain": [
              "'3.10.12 (main, Jun 11 2023, 05:26:28) [GCC 11.4.0]'"
            ],
            "application/vnd.google.colaboratory.intrinsic+json": {
              "type": "string"
            }
          },
          "metadata": {},
          "execution_count": 1
        }
      ]
    },
    {
      "cell_type": "markdown",
      "source": [
        "*   간단 계산기 프로그램 작성\n",
        "\n"
      ],
      "metadata": {
        "id": "QQuqSsEVfNkQ"
      }
    },
    {
      "cell_type": "code",
      "execution_count": 2,
      "metadata": {
        "colab": {
          "base_uri": "https://localhost:8080/"
        },
        "id": "gC7Mn5UHdhW6",
        "outputId": "1c012c71-8bf2-46d0-d49a-acc7d540d482"
      },
      "outputs": [
        {
          "output_type": "stream",
          "name": "stdout",
          "text": [
            "덧셈:  150\n",
            "뺄셈:  50\n",
            "곱셈:  5000\n",
            "나눗셈:  2.0\n"
          ]
        }
      ],
      "source": [
        "a = 100\n",
        "b = 50\n",
        "print('덧셈: ', a+b )\n",
        "print('뺄셈: ', a-b)\n",
        "print('곱셈: ', a*b)\n",
        "print('나눗셈: ', a/b)\n"
      ]
    }
  ]
}